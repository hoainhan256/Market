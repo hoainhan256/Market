{
 "cells": [
  {
   "cell_type": "code",
   "execution_count": 112,
   "id": "0b41a196-6dfb-4117-bebb-c11d1313a790",
   "metadata": {},
   "outputs": [],
   "source": [
    "import pandas as pd\n",
    "import numpy as np\n",
    "import re\n",
    "import underthesea\n",
    "from sklearn.model_selection import train_test_split\n",
    "from sklearn.metrics import accuracy_score\n",
    "from sklearn.metrics import f1_score\n",
    "from sklearn.svm import SVC\n",
    "from sklearn.pipeline import Pipeline\n",
    "from sklearn.feature_extraction.text import TfidfVectorizer\n",
    "import matplotlib.pyplot as plt"
   ]
  },
  {
   "cell_type": "code",
   "execution_count": 114,
   "id": "ee19a8e9-8860-41cb-b45d-a893015508e1",
   "metadata": {},
   "outputs": [
    {
     "name": "stdout",
     "output_type": "stream",
     "text": [
      "                                             comment label  rate  support\n",
      "0  Cho mình hỏi ghế gấp này có bị bay màu sau thờ...   NEU     3        1\n",
      "1        Có phụ kiện nào đi kèm với váy này không ạ?   NEU     3        1\n",
      "2  Bản quốc tế nên khi bật hoặc kết nối có thông ...   POS     4        0\n",
      "3  Mình đang tìm hiểu về váy, không biết mẫu này ...   NEU     3        1\n",
      "4  Máy bạn mua đồ lót tốt nhất đừng mua rẻ quá ti...   POS     4        0\n",
      "20038\n",
      "support\n",
      "0    10037\n",
      "1    10001\n",
      "Name: count, dtype: int64\n"
     ]
    }
   ],
   "source": [
    "df = pd.read_csv(\"./merged_shuffled.csv\")\n",
    "print(df.head())\n",
    "print(len(df))\n",
    "print(df[\"support\"].value_counts())\n"
   ]
  },
  {
   "cell_type": "code",
   "execution_count": 116,
   "id": "f1f98d16-fe60-42ea-8b7f-729349f36488",
   "metadata": {},
   "outputs": [
    {
     "data": {
      "image/png": "[encoded data removed]",
      "text/plain": [
       "<Figure size 640x480 with 1 Axes>"
      ]
     },
     "metadata": {},
     "output_type": "display_data"
    }
   ],
   "source": [
    "import pandas as pd\n",
    "\n",
    "\n",
    "# Đếm số lượng 0 và 1 trong cột 'support'\n",
    "count_support = df[\"support\"].value_counts().sort_index()\n",
    "\n",
    "# Vẽ biểu đồ cột\n",
    "plt.bar(count_support.index.astype(str), count_support.values, color=[\"skyblue\", \"orange\"])\n",
    "plt.xlabel(\"Support Value\")\n",
    "plt.ylabel(\"Số lượng bình luận\")\n",
    "plt.title(\"Thống kê số lượng comment theo support\")\n",
    "plt.grid(axis='y', linestyle='--', alpha=0.7)\n",
    "plt.tight_layout()\n",
    "plt.show()\n"
   ]
  },
  {
   "cell_type": "code",
   "execution_count": 118,
   "id": "5784c4ba-4586-48a4-a755-121b5b3d7a4e",
   "metadata": {},
   "outputs": [
    {
     "data": {
      "text/html": [
       "<div>\n",
       "<style scoped>\n",
       "    .dataframe tbody tr th:only-of-type {\n",
       "        vertical-align: middle;\n",
       "    }\n",
       "\n",
       "    .dataframe tbody tr th {\n",
       "        vertical-align: top;\n",
       "    }\n",
       "\n",
       "    .dataframe thead th {\n",
       "        text-align: right;\n",
       "    }\n",
       "</style>\n",
       "<table border=\"1\" class=\"dataframe\">\n",
       "  <thead>\n",
       "    <tr style=\"text-align: right;\">\n",
       "      <th></th>\n",
       "      <th>comment</th>\n",
       "      <th>label</th>\n",
       "      <th>rate</th>\n",
       "      <th>support</th>\n",
       "    </tr>\n",
       "  </thead>\n",
       "  <tbody>\n",
       "    <tr>\n",
       "      <th>0</th>\n",
       "      <td>cho mình hỏi ghế gấp này có bị bay màu sau thờ...</td>\n",
       "      <td>NEU</td>\n",
       "      <td>3</td>\n",
       "      <td>1</td>\n",
       "    </tr>\n",
       "    <tr>\n",
       "      <th>1</th>\n",
       "      <td>có phụ kiện nào đi kèm với váy này không ạ?</td>\n",
       "      <td>NEU</td>\n",
       "      <td>3</td>\n",
       "      <td>1</td>\n",
       "    </tr>\n",
       "    <tr>\n",
       "      <th>2</th>\n",
       "      <td>bản quốc tế nên khi bật hoặc kết nối có thông ...</td>\n",
       "      <td>POS</td>\n",
       "      <td>4</td>\n",
       "      <td>0</td>\n",
       "    </tr>\n",
       "    <tr>\n",
       "      <th>3</th>\n",
       "      <td>mình đang tìm hiểu về váy, không biết mẫu này ...</td>\n",
       "      <td>NEU</td>\n",
       "      <td>3</td>\n",
       "      <td>1</td>\n",
       "    </tr>\n",
       "    <tr>\n",
       "      <th>4</th>\n",
       "      <td>máy bạn mua đồ lót tốt nhất đừng mua rẻ quá ti...</td>\n",
       "      <td>POS</td>\n",
       "      <td>4</td>\n",
       "      <td>0</td>\n",
       "    </tr>\n",
       "  </tbody>\n",
       "</table>\n",
       "</div>"
      ],
      "text/plain": [
       "                                             comment label  rate  support\n",
       "0  cho mình hỏi ghế gấp này có bị bay màu sau thờ...   NEU     3        1\n",
       "1        có phụ kiện nào đi kèm với váy này không ạ?   NEU     3        1\n",
       "2  bản quốc tế nên khi bật hoặc kết nối có thông ...   POS     4        0\n",
       "3  mình đang tìm hiểu về váy, không biết mẫu này ...   NEU     3        1\n",
       "4  máy bạn mua đồ lót tốt nhất đừng mua rẻ quá ti...   POS     4        0"
      ]
     },
     "execution_count": 118,
     "metadata": {},
     "output_type": "execute_result"
    }
   ],
   "source": [
    "#đưa về chữ thường\n",
    "df[\"comment\"] = df[\"comment\"].str.lower()\n",
    "df.head()"
   ]
  },
  {
   "cell_type": "code",
   "execution_count": 120,
   "id": "7884c570-3052-4b6a-a317-59c768ad3d39",
   "metadata": {},
   "outputs": [
    {
     "data": {
      "text/html": [
       "<div>\n",
       "<style scoped>\n",
       "    .dataframe tbody tr th:only-of-type {\n",
       "        vertical-align: middle;\n",
       "    }\n",
       "\n",
       "    .dataframe tbody tr th {\n",
       "        vertical-align: top;\n",
       "    }\n",
       "\n",
       "    .dataframe thead th {\n",
       "        text-align: right;\n",
       "    }\n",
       "</style>\n",
       "<table border=\"1\" class=\"dataframe\">\n",
       "  <thead>\n",
       "    <tr style=\"text-align: right;\">\n",
       "      <th></th>\n",
       "      <th>comment</th>\n",
       "      <th>label</th>\n",
       "      <th>rate</th>\n",
       "      <th>support</th>\n",
       "    </tr>\n",
       "  </thead>\n",
       "  <tbody>\n",
       "    <tr>\n",
       "      <th>0</th>\n",
       "      <td>cho mình hỏi ghế gấp này có bị bay màu sau thờ...</td>\n",
       "      <td>NEU</td>\n",
       "      <td>3</td>\n",
       "      <td>1</td>\n",
       "    </tr>\n",
       "    <tr>\n",
       "      <th>1</th>\n",
       "      <td>có phụ kiện nào đi kèm với váy này không ạ?</td>\n",
       "      <td>NEU</td>\n",
       "      <td>3</td>\n",
       "      <td>1</td>\n",
       "    </tr>\n",
       "    <tr>\n",
       "      <th>2</th>\n",
       "      <td>bản quốc tế nên khi bật hoặc kết nối có thông ...</td>\n",
       "      <td>POS</td>\n",
       "      <td>4</td>\n",
       "      <td>0</td>\n",
       "    </tr>\n",
       "    <tr>\n",
       "      <th>3</th>\n",
       "      <td>mình đang tìm hiểu về váy, không biết mẫu này ...</td>\n",
       "      <td>NEU</td>\n",
       "      <td>3</td>\n",
       "      <td>1</td>\n",
       "    </tr>\n",
       "    <tr>\n",
       "      <th>4</th>\n",
       "      <td>máy bạn mua đồ lót tốt nhất đừng mua rẻ quá ti...</td>\n",
       "      <td>POS</td>\n",
       "      <td>4</td>\n",
       "      <td>0</td>\n",
       "    </tr>\n",
       "  </tbody>\n",
       "</table>\n",
       "</div>"
      ],
      "text/plain": [
       "                                             comment label  rate  support\n",
       "0  cho mình hỏi ghế gấp này có bị bay màu sau thờ...   NEU     3        1\n",
       "1        có phụ kiện nào đi kèm với váy này không ạ?   NEU     3        1\n",
       "2  bản quốc tế nên khi bật hoặc kết nối có thông ...   POS     4        0\n",
       "3  mình đang tìm hiểu về váy, không biết mẫu này ...   NEU     3        1\n",
       "4  máy bạn mua đồ lót tốt nhất đừng mua rẻ quá ti...   POS     4        0"
      ]
     },
     "execution_count": 120,
     "metadata": {},
     "output_type": "execute_result"
    }
   ],
   "source": [
    "#loại bỏ số\n",
    "df[\"comment\"] = df[\"comment\"].astype(str).str.replace(r'\\d+', '', regex=True)\n",
    "df.head()"
   ]
  },
  {
   "cell_type": "code",
   "execution_count": 122,
   "id": "1379d01b-ff1e-4d5f-98e8-900ee49618ff",
   "metadata": {},
   "outputs": [],
   "source": [
    "#Loại bỏ dấu câu\n",
    "df[\"comment\"] = df[\"comment\"].astype(str).str.replace(r'[^\\w\\s]', '', regex=True)"
   ]
  },
  {
   "cell_type": "code",
   "execution_count": 124,
   "id": "6000d1ff-2fba-4c75-86ab-0f4f2a9d84b8",
   "metadata": {},
   "outputs": [
    {
     "data": {
      "text/html": [
       "<div>\n",
       "<style scoped>\n",
       "    .dataframe tbody tr th:only-of-type {\n",
       "        vertical-align: middle;\n",
       "    }\n",
       "\n",
       "    .dataframe tbody tr th {\n",
       "        vertical-align: top;\n",
       "    }\n",
       "\n",
       "    .dataframe thead th {\n",
       "        text-align: right;\n",
       "    }\n",
       "</style>\n",
       "<table border=\"1\" class=\"dataframe\">\n",
       "  <thead>\n",
       "    <tr style=\"text-align: right;\">\n",
       "      <th></th>\n",
       "      <th>comment</th>\n",
       "      <th>label</th>\n",
       "      <th>rate</th>\n",
       "      <th>support</th>\n",
       "    </tr>\n",
       "  </thead>\n",
       "  <tbody>\n",
       "    <tr>\n",
       "      <th>0</th>\n",
       "      <td>cho mình hỏi ghế gấp này có bị bay màu sau thờ...</td>\n",
       "      <td>NEU</td>\n",
       "      <td>3</td>\n",
       "      <td>1</td>\n",
       "    </tr>\n",
       "    <tr>\n",
       "      <th>1</th>\n",
       "      <td>có phụ kiện nào đi kèm với váy này không ạ</td>\n",
       "      <td>NEU</td>\n",
       "      <td>3</td>\n",
       "      <td>1</td>\n",
       "    </tr>\n",
       "    <tr>\n",
       "      <th>2</th>\n",
       "      <td>bản quốc tế nên khi bật hoặc kết nối có thông ...</td>\n",
       "      <td>POS</td>\n",
       "      <td>4</td>\n",
       "      <td>0</td>\n",
       "    </tr>\n",
       "    <tr>\n",
       "      <th>3</th>\n",
       "      <td>mình đang tìm hiểu về váy không biết mẫu này c...</td>\n",
       "      <td>NEU</td>\n",
       "      <td>3</td>\n",
       "      <td>1</td>\n",
       "    </tr>\n",
       "    <tr>\n",
       "      <th>4</th>\n",
       "      <td>máy bạn mua đồ lót tốt nhất đừng mua rẻ quá ti...</td>\n",
       "      <td>POS</td>\n",
       "      <td>4</td>\n",
       "      <td>0</td>\n",
       "    </tr>\n",
       "  </tbody>\n",
       "</table>\n",
       "</div>"
      ],
      "text/plain": [
       "                                             comment label  rate  support\n",
       "0  cho mình hỏi ghế gấp này có bị bay màu sau thờ...   NEU     3        1\n",
       "1         có phụ kiện nào đi kèm với váy này không ạ   NEU     3        1\n",
       "2  bản quốc tế nên khi bật hoặc kết nối có thông ...   POS     4        0\n",
       "3  mình đang tìm hiểu về váy không biết mẫu này c...   NEU     3        1\n",
       "4  máy bạn mua đồ lót tốt nhất đừng mua rẻ quá ti...   POS     4        0"
      ]
     },
     "execution_count": 124,
     "metadata": {},
     "output_type": "execute_result"
    }
   ],
   "source": [
    "df.head()\n"
   ]
  },
  {
   "cell_type": "code",
   "execution_count": 126,
   "id": "498e3164-1c08-4e89-953b-8debd5e9441f",
   "metadata": {},
   "outputs": [],
   "source": [
    "# Loại bỏ khoảng trắng dư thừa\n",
    "df[\"comment\"] = df[\"comment\"].astype(str).str.replace(r'\\s+', ' ', regex=True).str.strip()\n"
   ]
  },
  {
   "cell_type": "code",
   "execution_count": 128,
   "id": "e9c94526-4e9f-428f-8a30-2ff6ec1c8dba",
   "metadata": {},
   "outputs": [
    {
     "data": {
      "text/html": [
       "<div>\n",
       "<style scoped>\n",
       "    .dataframe tbody tr th:only-of-type {\n",
       "        vertical-align: middle;\n",
       "    }\n",
       "\n",
       "    .dataframe tbody tr th {\n",
       "        vertical-align: top;\n",
       "    }\n",
       "\n",
       "    .dataframe thead th {\n",
       "        text-align: right;\n",
       "    }\n",
       "</style>\n",
       "<table border=\"1\" class=\"dataframe\">\n",
       "  <thead>\n",
       "    <tr style=\"text-align: right;\">\n",
       "      <th></th>\n",
       "      <th>comment</th>\n",
       "      <th>label</th>\n",
       "      <th>rate</th>\n",
       "      <th>support</th>\n",
       "    </tr>\n",
       "  </thead>\n",
       "  <tbody>\n",
       "    <tr>\n",
       "      <th>0</th>\n",
       "      <td>cho mình hỏi ghế gấp này có bị bay màu sau thờ...</td>\n",
       "      <td>NEU</td>\n",
       "      <td>3</td>\n",
       "      <td>1</td>\n",
       "    </tr>\n",
       "    <tr>\n",
       "      <th>1</th>\n",
       "      <td>có phụ kiện nào đi kèm với váy này không ạ</td>\n",
       "      <td>NEU</td>\n",
       "      <td>3</td>\n",
       "      <td>1</td>\n",
       "    </tr>\n",
       "    <tr>\n",
       "      <th>2</th>\n",
       "      <td>bản quốc tế nên khi bật hoặc kết nối có thông ...</td>\n",
       "      <td>POS</td>\n",
       "      <td>4</td>\n",
       "      <td>0</td>\n",
       "    </tr>\n",
       "    <tr>\n",
       "      <th>3</th>\n",
       "      <td>mình đang tìm hiểu về váy không biết mẫu này c...</td>\n",
       "      <td>NEU</td>\n",
       "      <td>3</td>\n",
       "      <td>1</td>\n",
       "    </tr>\n",
       "    <tr>\n",
       "      <th>4</th>\n",
       "      <td>máy bạn mua đồ lót tốt nhất đừng mua rẻ quá ti...</td>\n",
       "      <td>POS</td>\n",
       "      <td>4</td>\n",
       "      <td>0</td>\n",
       "    </tr>\n",
       "  </tbody>\n",
       "</table>\n",
       "</div>"
      ],
      "text/plain": [
       "                                             comment label  rate  support\n",
       "0  cho mình hỏi ghế gấp này có bị bay màu sau thờ...   NEU     3        1\n",
       "1         có phụ kiện nào đi kèm với váy này không ạ   NEU     3        1\n",
       "2  bản quốc tế nên khi bật hoặc kết nối có thông ...   POS     4        0\n",
       "3  mình đang tìm hiểu về váy không biết mẫu này c...   NEU     3        1\n",
       "4  máy bạn mua đồ lót tốt nhất đừng mua rẻ quá ti...   POS     4        0"
      ]
     },
     "execution_count": 128,
     "metadata": {},
     "output_type": "execute_result"
    }
   ],
   "source": [
    "df.head()\n"
   ]
  },
  {
   "cell_type": "code",
   "execution_count": 130,
   "id": "f740ebef-31b7-4e3b-b69e-2a77c31e74db",
   "metadata": {},
   "outputs": [],
   "source": [
    "# Loại bỏ các chữ cái giống nhau liên tiếp \n",
    "df[\"comment\"] = df[\"comment\"].astype(str).str.replace(r'(.)\\1+', r'\\1', regex=True)\n"
   ]
  },
  {
   "cell_type": "code",
   "execution_count": 132,
   "id": "06d2536d-46e4-48bc-a946-37ffda312dba",
   "metadata": {},
   "outputs": [
    {
     "data": {
      "text/html": [
       "<div>\n",
       "<style scoped>\n",
       "    .dataframe tbody tr th:only-of-type {\n",
       "        vertical-align: middle;\n",
       "    }\n",
       "\n",
       "    .dataframe tbody tr th {\n",
       "        vertical-align: top;\n",
       "    }\n",
       "\n",
       "    .dataframe thead th {\n",
       "        text-align: right;\n",
       "    }\n",
       "</style>\n",
       "<table border=\"1\" class=\"dataframe\">\n",
       "  <thead>\n",
       "    <tr style=\"text-align: right;\">\n",
       "      <th></th>\n",
       "      <th>comment</th>\n",
       "      <th>label</th>\n",
       "      <th>rate</th>\n",
       "      <th>support</th>\n",
       "    </tr>\n",
       "  </thead>\n",
       "  <tbody>\n",
       "    <tr>\n",
       "      <th>0</th>\n",
       "      <td>cho mình hỏi ghế gấp này có bị bay màu sau thờ...</td>\n",
       "      <td>NEU</td>\n",
       "      <td>3</td>\n",
       "      <td>1</td>\n",
       "    </tr>\n",
       "    <tr>\n",
       "      <th>1</th>\n",
       "      <td>có phụ kiện nào đi kèm với váy này không ạ</td>\n",
       "      <td>NEU</td>\n",
       "      <td>3</td>\n",
       "      <td>1</td>\n",
       "    </tr>\n",
       "    <tr>\n",
       "      <th>2</th>\n",
       "      <td>bản quốc tế nên khi bật hoặc kết nối có thông ...</td>\n",
       "      <td>POS</td>\n",
       "      <td>4</td>\n",
       "      <td>0</td>\n",
       "    </tr>\n",
       "    <tr>\n",
       "      <th>3</th>\n",
       "      <td>mình đang tìm hiểu về váy không biết mẫu này c...</td>\n",
       "      <td>NEU</td>\n",
       "      <td>3</td>\n",
       "      <td>1</td>\n",
       "    </tr>\n",
       "    <tr>\n",
       "      <th>4</th>\n",
       "      <td>máy bạn mua đồ lót tốt nhất đừng mua rẻ quá ti...</td>\n",
       "      <td>POS</td>\n",
       "      <td>4</td>\n",
       "      <td>0</td>\n",
       "    </tr>\n",
       "  </tbody>\n",
       "</table>\n",
       "</div>"
      ],
      "text/plain": [
       "                                             comment label  rate  support\n",
       "0  cho mình hỏi ghế gấp này có bị bay màu sau thờ...   NEU     3        1\n",
       "1         có phụ kiện nào đi kèm với váy này không ạ   NEU     3        1\n",
       "2  bản quốc tế nên khi bật hoặc kết nối có thông ...   POS     4        0\n",
       "3  mình đang tìm hiểu về váy không biết mẫu này c...   NEU     3        1\n",
       "4  máy bạn mua đồ lót tốt nhất đừng mua rẻ quá ti...   POS     4        0"
      ]
     },
     "execution_count": 132,
     "metadata": {},
     "output_type": "execute_result"
    }
   ],
   "source": [
    "df.head()\n"
   ]
  },
  {
   "cell_type": "code",
   "execution_count": 134,
   "id": "b43ac0cf-e9ea-4ffa-b237-80c2a5449a6c",
   "metadata": {},
   "outputs": [
    {
     "name": "stdout",
     "output_type": "stream",
     "text": [
      "0    [cho, mình, hỏi, ghế, gấp, này, có, bị, bay, m...\n",
      "1    [có, phụ kiện, nào, đi, kèm, với, váy, này, kh...\n",
      "2    [bản, quốc tế, nên, khi, bật, hoặc, kết nối, c...\n",
      "3    [mình, đang, tìm hiểu, về, váy, không, biết, m...\n",
      "4    [máy, bạn, mua, đồ lót, tốt, nhất, đừng, mua, ...\n",
      "Name: comment, dtype: object\n"
     ]
    }
   ],
   "source": [
    "# Tách từ trong cột 'comment'\n",
    "from underthesea import word_tokenize\n",
    "df[\"comment\"] = df[\"comment\"].apply(lambda x: word_tokenize(x))\n",
    "\n",
    "print(df[\"comment\"].head())"
   ]
  },
  {
   "cell_type": "code",
   "execution_count": 135,
   "id": "b5d1a1cb-e569-4f45-9e76-e02528652b7b",
   "metadata": {},
   "outputs": [],
   "source": [
    "#Chuẩn hóa dữ liệu\n",
    "replace_list = {\n",
    "       ':v':'hihi', '<3':'yêu', '♥️':'yêu','❤':'yêu','a':'anh','ac':'anh chị','ace':'anh chị em','ad':'quản lý',\n",
    "       'ae':'anh em','ak':'à','amin':'quản lý','androir':'android','app':'ứng dụng','auto ':'tự động',\n",
    "       'ây':'vậy','b nào':'bạn nào','bằg':'bằng','băng':'bằng','băp':'bắp','băt':'bắt','battery':'pin','bể':'vỡ',\n",
    "       'been':'bên','best':'nhất','best':'tốt nhất','bgqafy ':'ngày','bh':'bao giờ','bh':'bây giờ','bhx':'bảo hành',\n",
    "       'bi':'bị','big':'lớn','bik':'biết','bin':'pin','bit':'biết','bít':'biết','bn':'bạn','bông tróc':'bong tróc', 'k': 'không', 'ok': 'được',\n",
    "       'bro':'anh em','bt':'bình thường','bt':'biết','bth':'bình thường','bthg':'bình thường','bua':'bữa','bùn':'buồn',\n",
    "       'buonc':'buồn','bx':'hộp','bye':'tạm biệt','c':'chị','cac':'các','cam':'máy ảnh','card':'thẻ','châu':'khỏe',\n",
    "       'chiệu':'triệu','chíp':'chip','chội':'trội','chs':'chơi','chửa':'chữa','chug ':'chung','chup':'chụp','chuq':'chung',\n",
    "       'clip':'đoạn phim','cmt':'bình luận','co':'có','cở':'cỡ','cọc':'cột','cpu':'chíp xử lý','cty':'công ty',\n",
    "       'cua':'của','cũg':'cũng','cug ':'cũng','cuh':'cũng','cùi':'tệ','củng':'cũng','cụt':'cục','cv':'công việc',\n",
    "       'cx':'cũng','đ':' đồng','dag':'đang','dăng':'văng','dấp':'lỗi','dất':'rất','đay':'đấy','đâỳ':'đầy','đc':'được',\n",
    "       'dè':'rè','dể':'dễ','delay':'trễ','dêm':'đêm','đén':'đến','deplay ':'chậm','deu':'đều','diem':'điểm','dien':'diện',\n",
    "       'đien':'điển','điễn':'điển','dienmayxanh':'điện máy xanh','dín':'dính','dis':'văng','diss':'văng','dk':'được',\n",
    "       'dmx':'điện máy xanh','dô':'vào','dõ':'rõ','dỡ':'dở','đỗi':'đổi','download':'tải','drop':'tụt','dt':'điện thoại',\n",
    "       'đt':'điện thoại','đth':'điện thoại','đthoai':'điện thoại','du':'dù','dùg':'dùng','dừg':'dừng','đứg':'đứng',\n",
    "       'dụg ':'dụng','dung':'dùng','đụng':'chạm','đươc':'được','đuọc ':'được','đưowjc':'được','dựt ':'giật','dx':'được'\n",
    "       ,'đx':'được','đy':'đi','e':'em','ế':'không bán được','êm':'tốt','f':'facebook','fabook':'facebook',\n",
    "       'face':'facebook','fast':'nhanh','fb':'facebook','fim':'phim','fix':'sửa','flash sale':'giảm giá','fm':'đài',\n",
    "       'for what':'vì sao','fps':'tốc độ khung hình','full':'đầy','future':'tương lai','game':'trò chơi','gem':'trò chơi',\n",
    "       'geme':'trò chơi','gia tiên':'giá tiền','giât':'giật','giốg ':'giống','giử':'dữ','giùm':'dùm','gmae':'trò chơi',\n",
    "       'gởi':'gửi','gold':'vàng','gơn':'hơn','good':'tốt','good jup':'tốt','gop':'góp','gửa':'gửi','gủng':'cái','h':'giờ',\n",
    "       'haiz':'thở dài','hẵn ':'hẳn','hành':'hành','hazzz':'haizz','hc':'học','hcm':'hồ chí minh','hd':'chất lượng cao',\n",
    "       'hdh':'hệ điều hành','hđh':'hệ điều hành','headphone':'tai nghe','hên':'may mắn','hẻo':'yếu','hẹo':'yếu','het':'hết',\n",
    "       'hét':'hết','hic':'khóc','hieu':'hiểu','high-tech':'công nghệ cao','hít':'sử dụng','hiu':'hiểu','hỉu':'hiểu',\n",
    "       'hk':'không','hn':'hà nội','hnay':'hôm nay','hoài':'nhiều lần','hoi':'hơi','hới':'hơi','hời':'tốt',\n",
    "       'hoi han':'hối hận','hok':'không','hong':'không','hông':'không','hot':'nổi bật','hqua':'hôm qua','hs':'học sinh',\n",
    "       'hssv':'học sinh sinh viên','hut':'hút','huway ':'huawei','huwei ':'huawei','í':'ý','I like it':'tôi thích nó',\n",
    "       'ik':'đi','ip':'iphone','j':'gì','k':'không','kàm':'làm','kb':'không biết','kg':'không','kh':'không',\n",
    "       'khach':'khách hàng','khát phục':'khắc phục','khj':'khi','khoá ':'khóa','khóai ':'thích','khoẻ':'khỏe',\n",
    "       'khoẽ':'khỏe','khôg':'không','khoi đong':'khởi động','khong':'không','khoong ':'không','khuân':'khuôn',\n",
    "       'khủg':'khủng','kím':'kiếm','kipo':'tiêu cực','ko':'không','kt':'kiểm tra','ktra':'kiểm tra','la':'là',\n",
    "       'lác':'lỗi','lắc':'lỗi','lag':'lỗi','laii':'lại','lak':'giật','lan':'lần','lãng':'giật','lap':'máy tính',\n",
    "       'laptop':'máy tính','lay':'này','len toi':'lên tới','les':'led','lg':'lượng','lí':'lý','lien':'liên',\n",
    "       'like':'thích','liti':'nhỏ','live stream':'phát sóng trực tiếp','lm':'làm','ln':'luôn','loadd':'tải ',\n",
    "       'lôi':'lỗi','lổi':'lỗi','LOL ':'trò chơi','lởm':'kém chất lượng','lỏng lẽo':'lỏng lẻo','luc':'lúc','lun':'luôn',\n",
    "       'luong':'lượng','luot':'lướt','lưot ':'lượt','m':'mình','mạ':'trời','mắc công':'mất công','macseger':'messenger',\n",
    "       'mag':'màn','main':'chính','mak':'mà','man':'màn','màng':'màn','màng hình':'màn hình','mao ':'mau','mẩu':'mẫu',\n",
    "       'mầu ':'màu','max':'lớn nhất','may':'máy','mèn':'màn','méo gì':'làm gì','mih':'mình','mìk':'mình','min':'nhỏ nhât',\n",
    "       'mìn':'mình','mjh':'mình','mjk':'mình','mjnh':'minh','mk':'mình','mn':'mọi người','mng ':'mọi người','mo':'đâu',\n",
    "       'mò':'tìm','mobile':'điện thoại','mog':'mong','moi':'mới','mơi':'mới','ms':'mới','mún':'muốn','mước':'mức',\n",
    "       'mược':'mượt','muot':'mượt','mỷ':'mỹ','n':'nó','n':'nói chuyện','nãn':'nản','nayd':'này','nc':'nói chuyện',\n",
    "       'nch':'nói chuyện','nch':'nói chung','nếo ':'nếu','ng':'người','ngan':'ngang','nge':'nghe','nghiêm':'nghiệm',\n",
    "       'ngĩ':'nghĩ','ngốn':'sử dụng','nguon':'nguồn','nhah':'nhanh','nhan vien':'nhân viên','nhay':'nhạy','nhe':'nhé',\n",
    "       'nhèo':'nhòe','nhiet':'nhiệt','nhiểu':'nhiều','nhiu':'nhiều','nhìu':'nhiều','nhoè':'nhòe','như v':'như vậy',\n",
    "       'nhug':'nhưng','nhưg':'nhưng','nhữg':'những','nhung':'nhưng','nhuoc':'nhược','nhượt':'nhược','nock ao':'hạ gục',\n",
    "       'noi':'nói','nống':'nóng','not':'lưu ý','ns ':'nói','nsx':'ngày sản xuất','nt':'nhắn tin','ntin':'nhắn tin',\n",
    "       'ntn':'như thế nào','nũa':'nữa','nut ':'nút','nv':'nhân viên','nz':'như vậy','ô xi':'oxy','ofice':'văn phòng',\n",
    "       'ok':'được','ôk':'được','oke':'được','okee':'được','oki':'được','okie':'được','onl':'sử dụng',\n",
    "       'ộp ẹp':'không chắc chắn','option':'tùy chọn','or':'hoặc','out':'thoát','oỳ':'rồi','pải':'phải','phảm':'phẩm',\n",
    "       'phẩn':'phẩm','phan van':'phân vân','phèo':'vậy','phut ':'phút','pít':'biết','pro':'chất lượng cao','pùn':'buồn',\n",
    "       'pv':'giới thiệu','qá':'quá','qc':'quảng cáo','qtv':'quản trị viên','qua ve':'qua vẻ','quang trọng':'quan trọng',\n",
    "       'qus':'quá','r ':'rồi','rat':'rất','rát':'rất','rắt':'rất','rata':'rất','rễ':'dễ','rep':'trả lời',\n",
    "       'research':'nghiên cứu','reset':'cài đặt lại','restart':'khởi động lại','review':'đánh giá','rì':'gì',\n",
    "       'rinh':'mua','rỏ':'rõ','rùi':'rồi','rùng':'dùng','s':'sao','sac':'sạc','sài':'xài','sài':'dùng','sale':'giảm giá',\n",
    "       'sale off':'giảm giá','sâng':'sáng','sạt':'sạc','saving':'tiết kiệm','sd':'sử dụng','sdt':'số điện thoại',\n",
    "       'seal':'mới','search':'tìm kiếm','sefil':'chụp ảnh','selfie':'chụp ảnh','setting':'cài đặt','setup':'cài đặt',\n",
    "       'sexy':'quyến rũ','shiper':'nhân viên giao hàng','shop':'cửa hàng','skill':'kỹ năng','smooth':'mượt',\n",
    "       'so good':'rất tốt','sp':'sản phẩm','sphẩm':'sản phẩm','stars':'sao','sử':'xử','suất':'xuất','sưj':'sự',\n",
    "       'sước':'xước','super':'siêu','support':'hỗ trợ','sụt':'tụt','sv':'sinh viên','sx':'sản xuất','t':'tôi',\n",
    "       'T G D Đ':'thế giới di động','tằm ':'tầm','tes':'kiểm tra','test':'kiểm tra','tet':'tết','teung':'trung',\n",
    "       'tg':'thời gian','tgdd':'thế giới di động','tgdđ':'thế giới di động','thag':'tháng','thág':'tháng','ship':'giao','Ship':'giao',\n",
    "       'kh':'không','mik':'mình','j':'gì','ah':'ạ','nhiu':'nhiêu','mk':'mình',\n",
    "}\n",
    "pattern = re.compile(r'\\b(' + '|'.join(re.escape(key) for key in sorted(replace_list, key=lambda x: -len(x))) + r')\\b')\n",
    "def Util(text):\n",
    "    return pattern.sub(lambda match: replace_list[match.group(0)], text.lower())\n",
    "df['comment'] = df['comment'].astype(str).apply(Util)\n",
    "\n",
    "\n",
    "df['comment'] = df['comment'].apply(lambda x: Util(x) if isinstance(x, str) else \"\")\n",
    "\n",
    "\n",
    "\n",
    "df['comment'] = df['comment'].apply(Util)"
   ]
  },
  {
   "cell_type": "code",
   "execution_count": 136,
   "id": "ebf182f1-ff87-4fd5-8025-e4b935e13ce4",
   "metadata": {},
   "outputs": [
    {
     "data": {
      "text/html": [
       "<div>\n",
       "<style scoped>\n",
       "    .dataframe tbody tr th:only-of-type {\n",
       "        vertical-align: middle;\n",
       "    }\n",
       "\n",
       "    .dataframe tbody tr th {\n",
       "        vertical-align: top;\n",
       "    }\n",
       "\n",
       "    .dataframe thead th {\n",
       "        text-align: right;\n",
       "    }\n",
       "</style>\n",
       "<table border=\"1\" class=\"dataframe\">\n",
       "  <thead>\n",
       "    <tr style=\"text-align: right;\">\n",
       "      <th></th>\n",
       "      <th>comment</th>\n",
       "      <th>label</th>\n",
       "      <th>rate</th>\n",
       "      <th>support</th>\n",
       "    </tr>\n",
       "  </thead>\n",
       "  <tbody>\n",
       "    <tr>\n",
       "      <th>0</th>\n",
       "      <td>['cho', 'mình', 'hỏi', 'ghế', 'gấp', 'này', 'c...</td>\n",
       "      <td>NEU</td>\n",
       "      <td>3</td>\n",
       "      <td>1</td>\n",
       "    </tr>\n",
       "    <tr>\n",
       "      <th>1</th>\n",
       "      <td>['có', 'phụ kiện', 'nào', 'đi', 'kèm', 'với', ...</td>\n",
       "      <td>NEU</td>\n",
       "      <td>3</td>\n",
       "      <td>1</td>\n",
       "    </tr>\n",
       "    <tr>\n",
       "      <th>2</th>\n",
       "      <td>['bản', 'quốc tế', 'nên', 'khi', 'bật', 'hoặc'...</td>\n",
       "      <td>POS</td>\n",
       "      <td>4</td>\n",
       "      <td>0</td>\n",
       "    </tr>\n",
       "    <tr>\n",
       "      <th>3</th>\n",
       "      <td>['mình', 'đang', 'tìm hiểu', 'về', 'váy', 'khô...</td>\n",
       "      <td>NEU</td>\n",
       "      <td>3</td>\n",
       "      <td>1</td>\n",
       "    </tr>\n",
       "    <tr>\n",
       "      <th>4</th>\n",
       "      <td>['máy', 'bạn', 'mua', 'đồ lót', 'tốt', 'nhất',...</td>\n",
       "      <td>POS</td>\n",
       "      <td>4</td>\n",
       "      <td>0</td>\n",
       "    </tr>\n",
       "  </tbody>\n",
       "</table>\n",
       "</div>"
      ],
      "text/plain": [
       "                                             comment label  rate  support\n",
       "0  ['cho', 'mình', 'hỏi', 'ghế', 'gấp', 'này', 'c...   NEU     3        1\n",
       "1  ['có', 'phụ kiện', 'nào', 'đi', 'kèm', 'với', ...   NEU     3        1\n",
       "2  ['bản', 'quốc tế', 'nên', 'khi', 'bật', 'hoặc'...   POS     4        0\n",
       "3  ['mình', 'đang', 'tìm hiểu', 'về', 'váy', 'khô...   NEU     3        1\n",
       "4  ['máy', 'bạn', 'mua', 'đồ lót', 'tốt', 'nhất',...   POS     4        0"
      ]
     },
     "execution_count": 136,
     "metadata": {},
     "output_type": "execute_result"
    }
   ],
   "source": [
    "df.head()"
   ]
  },
  {
   "cell_type": "code",
   "execution_count": 137,
   "id": "7b8347a4-4705-49da-a472-63604b3eb597",
   "metadata": {},
   "outputs": [],
   "source": [
    "#bỏ icon\n",
    "import re\n",
    "\n",
    "# Regex lọc emoji Unicode (emoji mặt cười, cờ, biểu tượng cảm xúc, động vật,...)\n",
    "emoji_pattern = re.compile(\n",
    "    \"[\"\n",
    "    \"\\U0001F600-\\U0001F64F\"  # Mặt cười\n",
    "    \"\\U0001F300-\\U0001F5FF\"  # Biểu tượng khác\n",
    "    \"\\U0001F680-\\U0001F6FF\"  # Vận chuyển\n",
    "    \"\\U0001F1E0-\\U0001F1FF\"  # Cờ các nước\n",
    "    \"\\U00002700-\\U000027BF\"  # Các ký hiệu khác\n",
    "    \"\\U000024C2-\\U0001F251\"\n",
    "    \"]+\",\n",
    "    flags=re.UNICODE\n",
    ")\n",
    "\n",
    "def remove_emojis(text):\n",
    "    if not isinstance(text, str):\n",
    "        return \"\"\n",
    "    return emoji_pattern.sub(r'', text)\n",
    "df['comment'] = df['comment'].apply(remove_emojis)\n"
   ]
  },
  {
   "cell_type": "code",
   "execution_count": 138,
   "id": "a51cda56-6d6c-4e69-b53f-299de16d7a29",
   "metadata": {},
   "outputs": [
    {
     "data": {
      "text/html": [
       "<div>\n",
       "<style scoped>\n",
       "    .dataframe tbody tr th:only-of-type {\n",
       "        vertical-align: middle;\n",
       "    }\n",
       "\n",
       "    .dataframe tbody tr th {\n",
       "        vertical-align: top;\n",
       "    }\n",
       "\n",
       "    .dataframe thead th {\n",
       "        text-align: right;\n",
       "    }\n",
       "</style>\n",
       "<table border=\"1\" class=\"dataframe\">\n",
       "  <thead>\n",
       "    <tr style=\"text-align: right;\">\n",
       "      <th></th>\n",
       "      <th>comment</th>\n",
       "      <th>label</th>\n",
       "      <th>rate</th>\n",
       "      <th>support</th>\n",
       "    </tr>\n",
       "  </thead>\n",
       "  <tbody>\n",
       "    <tr>\n",
       "      <th>0</th>\n",
       "      <td>['cho', 'mình', 'hỏi', 'ghế', 'gấp', 'này', 'c...</td>\n",
       "      <td>NEU</td>\n",
       "      <td>3</td>\n",
       "      <td>1</td>\n",
       "    </tr>\n",
       "    <tr>\n",
       "      <th>1</th>\n",
       "      <td>['có', 'phụ kiện', 'nào', 'đi', 'kèm', 'với', ...</td>\n",
       "      <td>NEU</td>\n",
       "      <td>3</td>\n",
       "      <td>1</td>\n",
       "    </tr>\n",
       "    <tr>\n",
       "      <th>2</th>\n",
       "      <td>['bản', 'quốc tế', 'nên', 'khi', 'bật', 'hoặc'...</td>\n",
       "      <td>POS</td>\n",
       "      <td>4</td>\n",
       "      <td>0</td>\n",
       "    </tr>\n",
       "    <tr>\n",
       "      <th>3</th>\n",
       "      <td>['mình', 'đang', 'tìm hiểu', 'về', 'váy', 'khô...</td>\n",
       "      <td>NEU</td>\n",
       "      <td>3</td>\n",
       "      <td>1</td>\n",
       "    </tr>\n",
       "    <tr>\n",
       "      <th>4</th>\n",
       "      <td>['máy', 'bạn', 'mua', 'đồ lót', 'tốt', 'nhất',...</td>\n",
       "      <td>POS</td>\n",
       "      <td>4</td>\n",
       "      <td>0</td>\n",
       "    </tr>\n",
       "  </tbody>\n",
       "</table>\n",
       "</div>"
      ],
      "text/plain": [
       "                                             comment label  rate  support\n",
       "0  ['cho', 'mình', 'hỏi', 'ghế', 'gấp', 'này', 'c...   NEU     3        1\n",
       "1  ['có', 'phụ kiện', 'nào', 'đi', 'kèm', 'với', ...   NEU     3        1\n",
       "2  ['bản', 'quốc tế', 'nên', 'khi', 'bật', 'hoặc'...   POS     4        0\n",
       "3  ['mình', 'đang', 'tìm hiểu', 'về', 'váy', 'khô...   NEU     3        1\n",
       "4  ['máy', 'bạn', 'mua', 'đồ lót', 'tốt', 'nhất',...   POS     4        0"
      ]
     },
     "execution_count": 138,
     "metadata": {},
     "output_type": "execute_result"
    }
   ],
   "source": [
    "df.head()\n"
   ]
  },
  {
   "cell_type": "code",
   "execution_count": 139,
   "id": "a86d4744-1b29-4c16-8931-a70d8dd09902",
   "metadata": {},
   "outputs": [
    {
     "name": "stdout",
     "output_type": "stream",
     "text": [
      "comment    object\n",
      "label      object\n",
      "rate        int64\n",
      "support     int64\n",
      "dtype: object\n"
     ]
    }
   ],
   "source": [
    "print(df.dtypes)"
   ]
  },
  {
   "cell_type": "code",
   "execution_count": 140,
   "id": "329f74e2-2b4a-401f-ae1e-3099971eac9d",
   "metadata": {},
   "outputs": [],
   "source": [
    "df.to_csv(\"data_complete.csv\", index = False)"
   ]
  },
  {
   "cell_type": "code",
   "execution_count": 141,
   "id": "93356e3f-eb4e-4862-9ffd-b3585c281ea9",
   "metadata": {},
   "outputs": [
    {
     "name": "stdout",
     "output_type": "stream",
     "text": [
      "Tách dữ liệu hoàn tất!\n"
     ]
    },
    {
     "name": "stderr",
     "output_type": "stream",
     "text": [
      "C:\\Users\\Admin\\AppData\\Local\\Temp\\ipykernel_16012\\195212740.py:24: SettingWithCopyWarning: \n",
      "A value is trying to be set on a copy of a slice from a DataFrame\n",
      "\n",
      "See the caveats in the documentation: https://pandas.pydata.org/pandas-docs/stable/user_guide/indexing.html#returning-a-view-versus-a-copy\n",
      "  dataset.drop(columns=['label_support'], inplace=True)\n",
      "C:\\Users\\Admin\\AppData\\Local\\Temp\\ipykernel_16012\\195212740.py:24: SettingWithCopyWarning: \n",
      "A value is trying to be set on a copy of a slice from a DataFrame\n",
      "\n",
      "See the caveats in the documentation: https://pandas.pydata.org/pandas-docs/stable/user_guide/indexing.html#returning-a-view-versus-a-copy\n",
      "  dataset.drop(columns=['label_support'], inplace=True)\n",
      "C:\\Users\\Admin\\AppData\\Local\\Temp\\ipykernel_16012\\195212740.py:24: SettingWithCopyWarning: \n",
      "A value is trying to be set on a copy of a slice from a DataFrame\n",
      "\n",
      "See the caveats in the documentation: https://pandas.pydata.org/pandas-docs/stable/user_guide/indexing.html#returning-a-view-versus-a-copy\n",
      "  dataset.drop(columns=['label_support'], inplace=True)\n"
     ]
    }
   ],
   "source": [
    "import pandas as pd\n",
    "from sklearn.model_selection import StratifiedShuffleSplit\n",
    "\n",
    "# Đọc dữ liệu từ file CSV\n",
    "df = pd.read_csv('data_complete.csv')\n",
    "\n",
    "# Tạo nhãn phân tầng kết hợp từ 2 cột\n",
    "df['label_support'] = df['label'].astype(str) + '_' + df['support'].astype(str)\n",
    "\n",
    "# Khởi tạo đối tượng stratified splitter cho train và temp (val + test)\n",
    "splitter_1 = StratifiedShuffleSplit(n_splits=1, test_size=0.3, random_state=42)\n",
    "for train_idx, temp_idx in splitter_1.split(df, df['label_support']):\n",
    "    train_data = df.iloc[train_idx]\n",
    "    temp_data = df.iloc[temp_idx]\n",
    "\n",
    "# Chia tiếp temp thành val (10%) và test (20%) → tức là val chiếm ~1/3 của temp\n",
    "splitter_2 = StratifiedShuffleSplit(n_splits=1, test_size=2/3, random_state=42)\n",
    "for val_idx, test_idx in splitter_2.split(temp_data, temp_data['label_support']):\n",
    "    val_data = temp_data.iloc[val_idx]\n",
    "    test_data = temp_data.iloc[test_idx]\n",
    "\n",
    "# Xoá cột phụ trước khi lưu\n",
    "for dataset in [train_data, val_data, test_data]:\n",
    "    dataset.drop(columns=['label_support'], inplace=True)\n",
    "\n",
    "# Lưu ra 3 file CSV\n",
    "train_data.to_csv('train_70data.csv', index=False)\n",
    "val_data.to_csv('val_10data.csv', index=False)\n",
    "test_data.to_csv('test_20data.csv', index=False)\n",
    "\n",
    "print(\"Tách dữ liệu hoàn tất!\")\n"
   ]
  },
  {
   "cell_type": "code",
   "execution_count": 142,
   "id": "ac776d10-109c-445e-b706-d8deca564349",
   "metadata": {},
   "outputs": [],
   "source": [
    "df = pd.read_csv(\"./train_70data.csv\")"
   ]
  },
  {
   "cell_type": "code",
   "execution_count": 144,
   "id": "b48f6709-885d-4a2e-80a8-ad5677d190dc",
   "metadata": {},
   "outputs": [
    {
     "name": "stdout",
     "output_type": "stream",
     "text": [
      "                                             comment label  rate  support\n",
      "0  ['vải', 'nhăn', 'chất lượng', 'không', 'giống'...   POS     4        0\n",
      "1  ['không', 'biết', 'cửa hàng', 'có', 'xử lý', '...   NEG     2        1\n",
      "2  ['mình', 'thấy', 'chất lượng', 'sản phẩm', 'tu...   POS     4        0\n",
      "3  ['mình', 'cần', 'xử dụng', 'máy in', 'này', 'ở...   NEU     3        1\n",
      "4  ['mình', 'không', 'quen', 'mua', 'online', 'nh...   NEU     3        1\n",
      "support\n",
      "0    7025\n",
      "1    7001\n",
      "Name: count, dtype: int64\n",
      "label\n",
      "POS    8127\n",
      "NEU    5001\n",
      "NEG     898\n",
      "Name: count, dtype: int64\n"
     ]
    }
   ],
   "source": [
    "print(df.head())\n",
    "print(df['support'].value_counts())\n",
    "print(df['label'].value_counts())"
   ]
  },
  {
   "cell_type": "code",
   "execution_count": 154,
   "id": "1cacadf9-7493-4893-ab17-25c2f5408685",
   "metadata": {},
   "outputs": [
    {
     "name": "stdout",
     "output_type": "stream",
     "text": [
      "Epoch 1/10\n",
      "439/439 [==============================] - 21s 40ms/step - loss: 0.1214 - accuracy: 0.9528 - val_loss: 0.0599 - val_accuracy: 0.9810\n",
      "Epoch 2/10\n",
      "439/439 [==============================] - 17s 39ms/step - loss: 0.0409 - accuracy: 0.9872 - val_loss: 0.0654 - val_accuracy: 0.9785\n",
      "Epoch 3/10\n",
      "439/439 [==============================] - 17s 38ms/step - loss: 0.0391 - accuracy: 0.9892 - val_loss: 0.0786 - val_accuracy: 0.9775\n",
      "Epoch 4/10\n",
      "439/439 [==============================] - 17s 38ms/step - loss: 0.0296 - accuracy: 0.9924 - val_loss: 0.0624 - val_accuracy: 0.9865\n",
      "Epoch 5/10\n",
      "439/439 [==============================] - 16s 37ms/step - loss: 0.0240 - accuracy: 0.9937 - val_loss: 0.0654 - val_accuracy: 0.9830\n",
      "Epoch 6/10\n",
      "439/439 [==============================] - 17s 38ms/step - loss: 0.0173 - accuracy: 0.9954 - val_loss: 0.0681 - val_accuracy: 0.9830\n",
      "Epoch 7/10\n",
      "439/439 [==============================] - 16s 37ms/step - loss: 0.0185 - accuracy: 0.9954 - val_loss: 0.0590 - val_accuracy: 0.9825\n",
      "Epoch 8/10\n",
      "439/439 [==============================] - 17s 38ms/step - loss: 0.0144 - accuracy: 0.9963 - val_loss: 0.0839 - val_accuracy: 0.9760\n",
      "Epoch 9/10\n",
      "439/439 [==============================] - 17s 39ms/step - loss: 0.0118 - accuracy: 0.9972 - val_loss: 0.0684 - val_accuracy: 0.9825\n",
      "Epoch 10/10\n",
      "439/439 [==============================] - 17s 39ms/step - loss: 0.0153 - accuracy: 0.9955 - val_loss: 0.0778 - val_accuracy: 0.9750\n"
     ]
    },
    {
     "data": {
      "text/plain": [
       "<keras.src.callbacks.History at 0x244fb7d37f0>"
      ]
     },
     "execution_count": 154,
     "metadata": {},
     "output_type": "execute_result"
    }
   ],
   "source": [
    "import pandas as pd\n",
    "import numpy as np\n",
    "from sklearn.preprocessing import LabelEncoder\n",
    "from tensorflow.keras.preprocessing.text import Tokenizer\n",
    "from tensorflow.keras.preprocessing.sequence import pad_sequences\n",
    "from tensorflow.keras.models import Model\n",
    "from tensorflow.keras.layers import Input, Embedding, Bidirectional, LSTM, Dense, Dropout\n",
    "from tensorflow.keras.utils import to_categorical\n",
    "from sklearn.model_selection import train_test_split\n",
    "import underthesea\n",
    "\n",
    "# Load dữ liệu\n",
    "df = pd.read_csv(\"train_70data.csv\")\n",
    "\n",
    "# Tiền xử lý văn bản\n",
    "def preprocess_text(text):\n",
    "    return ' '.join(underthesea.word_tokenize(str(text)))\n",
    "\n",
    "df['comment'] = df['comment'].astype(str).apply(preprocess_text)\n",
    "\n",
    "# Encode nhãn support\n",
    "label_encoder = LabelEncoder()\n",
    "df['support'] = label_encoder.fit_transform(df['support'])  # 0 hoặc 1\n",
    "\n",
    "# Tokenizer\n",
    "tokenizer = Tokenizer(oov_token='<OOV>')\n",
    "tokenizer.fit_on_texts(df['comment'])\n",
    "sequences = tokenizer.texts_to_sequences(df['comment'])\n",
    "\n",
    "# Padding\n",
    "maxlen = 100\n",
    "X = pad_sequences(sequences, maxlen=maxlen, padding='post', truncating='post')\n",
    "y = df['support'].values  # Không cần one-hot vì là binary\n",
    "\n",
    "# ----------- 3. Load tập validation từ file riêng ----------\n",
    "val_df = pd.read_csv(\"val_10data.csv\")\n",
    "\n",
    "# Tiền xử lý y như tập train\n",
    "val_df['comment'] = val_df['comment'].astype(str).apply(preprocess_text)\n",
    "val_df['support'] = label_encoder.transform(val_df['support'])  # dùng cùng encoder\n",
    "\n",
    "# Tokenize và pad\n",
    "val_sequences = tokenizer.texts_to_sequences(val_df['comment'])\n",
    "X_val = pad_sequences(val_sequences, maxlen=maxlen, padding='post', truncating='post')\n",
    "y_val = val_df['support'].values\n",
    "\n",
    "\n",
    "# Xây mô hình\n",
    "vocab_size = len(tokenizer.word_index) + 1\n",
    "embedding_dim = 100\n",
    "\n",
    "inputs = Input(shape=(maxlen,))\n",
    "embedding = Embedding(input_dim=vocab_size, output_dim=embedding_dim)(inputs)\n",
    "\n",
    "lstm = Bidirectional(LSTM(64, return_sequences=True))(embedding)\n",
    "lstm = Bidirectional(LSTM(64))(lstm)\n",
    "dropout = Dropout(0.5)(lstm)\n",
    "output = Dense(1, activation='sigmoid')(dropout)\n",
    "\n",
    "model = Model(inputs=inputs, outputs=output)\n",
    "model.compile(loss='binary_crossentropy', optimizer='adam', metrics=['accuracy'])\n",
    "\n",
    "# Train\n",
    "model.fit(X, y, epochs=10, batch_size=32, validation_data=(X_val, y_val))"
   ]
  },
  {
   "cell_type": "code",
   "execution_count": 156,
   "id": "6b16dfb7-eef9-41d0-9a25-d2d8094c6275",
   "metadata": {},
   "outputs": [
    {
     "name": "stdout",
     "output_type": "stream",
     "text": [
      "✅ Đã lưu mô hình và các đối tượng hỗ trợ!\n"
     ]
    }
   ],
   "source": [
    "model.save(\"support_model.keras\")\n",
    "\n",
    "# Lưu tokenizer\n",
    "with open(\"tokenizer.pkl\", \"wb\") as f:\n",
    "    pickle.dump(tokenizer, f)\n",
    "\n",
    "# Lưu label encoder\n",
    "with open(\"label_encoder.pkl\", \"wb\") as f:\n",
    "    pickle.dump(label_encoder, f)\n",
    "\n",
    "print(\"✅ Đã lưu mô hình và các đối tượng hỗ trợ!\")"
   ]
  },
  {
   "cell_type": "code",
   "execution_count": 193,
   "id": "8457e0ba-ccbf-4db1-af8a-7dd0ae591685",
   "metadata": {},
   "outputs": [
    {
     "name": "stdout",
     "output_type": "stream",
     "text": [
      "32/32 [==============================] - 1s 14ms/step\n",
      " Đánh giá mô hình LSTM:\n",
      "Accuracy:  0.9102\n",
      " Precision: 0.9047\n",
      " Recall:    0.9172\n",
      " F1-score:  0.9109\n",
      "\n",
      " Classification Report:\n",
      "              precision    recall  f1-score   support\n",
      "\n",
      "           0     0.9158    0.9032    0.9095       506\n",
      "           1     0.9047    0.9172    0.9109       507\n",
      "\n",
      "    accuracy                         0.9102      1013\n",
      "   macro avg     0.9103    0.9102    0.9102      1013\n",
      "weighted avg     0.9102    0.9102    0.9102      1013\n",
      "\n"
     ]
    }
   ],
   "source": [
    "import pandas as pd\n",
    "import numpy as np\n",
    "import pickle\n",
    "from tensorflow.keras.models import load_model\n",
    "from tensorflow.keras.preprocessing.sequence import pad_sequences\n",
    "from sklearn.metrics import accuracy_score, precision_score, recall_score, f1_score, classification_report\n",
    "import underthesea\n",
    "\n",
    "# ------- 1. Load mô hình và tokenizer -------\n",
    "model = load_model(\"support_model.keras\")\n",
    "\n",
    "with open(\"tokenizer.pkl\", \"rb\") as f:\n",
    "    tokenizer = pickle.load(f)\n",
    "\n",
    "# Nếu bạn vẫn dùng label_encoder:\n",
    "with open(\"label_encoder.pkl\", \"rb\") as f:\n",
    "    label_encoder = pickle.load(f)\n",
    "def preprocess_text(text):\n",
    "    return ' '.join(underthesea.word_tokenize(str(text)))\n",
    "# ------- 2. Load và xử lý dữ liệu test -------\n",
    "test_df = pd.read_csv(\"shuffled_test_support_only.csv\")\n",
    "\n",
    "# Đảm bảo cột 'comment' là string và tokenize\n",
    "test_df['comment'] = test_df['comment'].astype(str).apply(lambda x: ' '.join(underthesea.word_tokenize(x)))\n",
    "test_df['comment'] = test_df['comment'].astype(str).apply(preprocess_text)\n",
    "# Encode nhãn\n",
    "test_df['support'] = label_encoder.transform(test_df['support'])\n",
    "\n",
    "# Chuẩn bị dữ liệu\n",
    "sequences = tokenizer.texts_to_sequences(test_df['comment'])\n",
    "X_test = pad_sequences(sequences, maxlen=100, padding='post', truncating='post')\n",
    "y_test = test_df['support'].values\n",
    "\n",
    "# ------- 3. Dự đoán -------\n",
    "y_pred_prob = model.predict(X_test)\n",
    "y_pred = (y_pred_prob > 0.5).astype(int).flatten()\n",
    "\n",
    "# ------- 4. Đánh giá -------\n",
    "accuracy = accuracy_score(y_test, y_pred)\n",
    "precision = precision_score(y_test, y_pred, zero_division=0)\n",
    "recall = recall_score(y_test, y_pred, zero_division=0)\n",
    "f1 = f1_score(y_test, y_pred, zero_division=0)\n",
    "\n",
    "print(\" Đánh giá mô hình LSTM:\")\n",
    "print(f\"Accuracy:  {accuracy:.4f}\")\n",
    "print(f\" Precision: {precision:.4f}\")\n",
    "print(f\" Recall:    {recall:.4f}\")\n",
    "print(f\" F1-score:  {f1:.4f}\")\n",
    "print(\"\\n Classification Report:\")\n",
    "print(classification_report(y_test, y_pred, zero_division=0,digits=4))\n",
    "\n",
    "# ------- 3.5. Hiển thị các comment bị dự đoán sai -------\n",
    "#test_df['pred'] = y_pred\n",
    "#test_df['true'] = y_test\n",
    "#test_df['is_wrong'] = test_df['pred'] != test_df['true']\n",
    "\n",
    "# Lọc các comment sai\n",
    "#wrong_predictions = test_df[test_df['is_wrong'] == True]\n",
    "\n",
    "# Hiển thị\n",
    "#print(\"\\n Các comment bị dự đoán sai:\")\n",
    "#print(wrong_predictions[['comment', 'true', 'pred']])\n",
    "\n",
    "# (Tùy chọn) Lưu ra file CSV để phân tích sau\n",
    "#wrong_comment = wrong_predictions[\"comment\"]\n",
    "#wrong_comment.to_csv(\"wrong_predictions_no.csv\", index=False)\n"
   ]
  },
  {
   "cell_type": "code",
   "execution_count": 194,
   "id": "c194a62b-5fc4-492a-923c-7750e01a4fd7",
   "metadata": {},
   "outputs": [
    {
     "data": {
      "image/png": "[encoded data removed]",
      "text/plain": [
       "<Figure size 640x480 with 2 Axes>"
      ]
     },
     "metadata": {},
     "output_type": "display_data"
    }
   ],
   "source": [
    "import pandas as pd\n",
    "from sklearn.feature_extraction.text import TfidfVectorizer\n",
    "from sklearn.metrics import classification_report, confusion_matrix\n",
    "import matplotlib.pyplot as plt\n",
    "import seaborn as sns\n",
    "# Confusion matrix\n",
    "cm = confusion_matrix(y_test, y_pred)\n",
    "sns.heatmap(cm, annot=True, fmt='d', cmap='Blues',\n",
    "            xticklabels=['Không hỗ trợ', 'Cần hỗ trợ'],\n",
    "            yticklabels=['Không hỗ trợ', 'Cần hỗ trợ'])\n",
    "plt.xlabel(\"Dự đoán\")\n",
    "plt.ylabel(\"Thực tế\")\n",
    "plt.title(\"Confusion Matrix - LSTM\")\n",
    "plt.show()"
   ]
  },
  {
   "cell_type": "code",
   "execution_count": 12,
   "id": "1949e0fa-e29e-41a9-bc15-015bfdc90224",
   "metadata": {},
   "outputs": [
    {
     "name": "stdin",
     "output_type": "stream",
     "text": [
      "\n",
      "Nhập bình luận (gõ 'exit' để thoát):  chất vải ổn không\n"
     ]
    },
    {
     "name": "stdout",
     "output_type": "stream",
     "text": [
      "1/1 [==============================] - 1s 801ms/step\n",
      "\n",
      " Bình luận gốc     : chất vải ổn không\n",
      " Sau xử lý         : chất vải ổn không\n",
      " Dự đoán           :  Không cần hỗ trợ (0)\n",
      " Xác suất hỗ trợ   : 0.0005\n"
     ]
    },
    {
     "name": "stdin",
     "output_type": "stream",
     "text": [
      "\n",
      "Nhập bình luận (gõ 'exit' để thoát):  trẻ em ăn được không\n"
     ]
    },
    {
     "name": "stdout",
     "output_type": "stream",
     "text": [
      "1/1 [==============================] - 0s 19ms/step\n",
      "\n",
      " Bình luận gốc     : trẻ em ăn được không\n",
      " Sau xử lý         : trẻ em ăn được không\n",
      " Dự đoán           :  Cần hỗ trợ (1)\n",
      " Xác suất hỗ trợ   : 0.7268\n"
     ]
    },
    {
     "name": "stdin",
     "output_type": "stream",
     "text": [
      "\n",
      "Nhập bình luận (gõ 'exit' để thoát):  liệu có thể bảo hành sau 2 năm không\n"
     ]
    },
    {
     "name": "stdout",
     "output_type": "stream",
     "text": [
      "1/1 [==============================] - 0s 20ms/step\n",
      "\n",
      " Bình luận gốc     : liệu có thể bảo hành sau 2 năm không\n",
      " Sau xử lý         : liệu có thể bảo hành sau năm không\n",
      " Dự đoán           :  Cần hỗ trợ (1)\n",
      " Xác suất hỗ trợ   : 0.9987\n"
     ]
    },
    {
     "name": "stdin",
     "output_type": "stream",
     "text": [
      "\n",
      "Nhập bình luận (gõ 'exit' để thoát):  ăn nhiều có mập không\n"
     ]
    },
    {
     "name": "stdout",
     "output_type": "stream",
     "text": [
      "1/1 [==============================] - 0s 20ms/step\n",
      "\n",
      " Bình luận gốc     : ăn nhiều có mập không\n",
      " Sau xử lý         : ăn nhiều có mập không\n",
      " Dự đoán           :  Cần hỗ trợ (1)\n",
      " Xác suất hỗ trợ   : 0.8726\n"
     ]
    },
    {
     "name": "stdin",
     "output_type": "stream",
     "text": [
      "\n",
      "Nhập bình luận (gõ 'exit' để thoát):  hỗ trợ em cái shop\n"
     ]
    },
    {
     "name": "stdout",
     "output_type": "stream",
     "text": [
      "1/1 [==============================] - 0s 20ms/step\n",
      "\n",
      " Bình luận gốc     : hỗ trợ em cái shop\n",
      " Sau xử lý         : hỗ trợ em cái cửa hàng\n",
      " Dự đoán           :  Cần hỗ trợ (1)\n",
      " Xác suất hỗ trợ   : 0.8264\n"
     ]
    },
    {
     "name": "stdin",
     "output_type": "stream",
     "text": [
      "\n",
      "Nhập bình luận (gõ 'exit' để thoát):  không thấy shop trả lời tin nhắn\n"
     ]
    },
    {
     "name": "stdout",
     "output_type": "stream",
     "text": [
      "1/1 [==============================] - 0s 17ms/step\n",
      "\n",
      " Bình luận gốc     : không thấy shop trả lời tin nhắn\n",
      " Sau xử lý         : không thấy cửa hàng trả lời tin nhắn\n",
      " Dự đoán           :  Cần hỗ trợ (1)\n",
      " Xác suất hỗ trợ   : 0.9624\n"
     ]
    },
    {
     "name": "stdin",
     "output_type": "stream",
     "text": [
      "\n",
      "Nhập bình luận (gõ 'exit' để thoát):  trả lời đi chứ\n"
     ]
    },
    {
     "name": "stdout",
     "output_type": "stream",
     "text": [
      "1/1 [==============================] - 0s 20ms/step\n",
      "\n",
      " Bình luận gốc     : trả lời đi chứ\n",
      " Sau xử lý         : trả lời đi chứ\n",
      " Dự đoán           :  Không cần hỗ trợ (0)\n",
      " Xác suất hỗ trợ   : 0.2571\n"
     ]
    },
    {
     "name": "stdin",
     "output_type": "stream",
     "text": [
      "\n",
      "Nhập bình luận (gõ 'exit' để thoát):  ăn khá ngon\n"
     ]
    },
    {
     "name": "stdout",
     "output_type": "stream",
     "text": [
      "1/1 [==============================] - 0s 18ms/step\n",
      "\n",
      " Bình luận gốc     : ăn khá ngon\n",
      " Sau xử lý         : ăn khá ngon\n",
      " Dự đoán           :  Không cần hỗ trợ (0)\n",
      " Xác suất hỗ trợ   : 0.0004\n"
     ]
    },
    {
     "name": "stdin",
     "output_type": "stream",
     "text": [
      "\n",
      "Nhập bình luận (gõ 'exit' để thoát):  đề nghị shop kiểm tra kỹ hàng\n"
     ]
    },
    {
     "name": "stdout",
     "output_type": "stream",
     "text": [
      "1/1 [==============================] - 0s 18ms/step\n",
      "\n",
      " Bình luận gốc     : đề nghị shop kiểm tra kỹ hàng\n",
      " Sau xử lý         : đề nghị cửa hàng kiểm tra kỹ hàng\n",
      " Dự đoán           :  Không cần hỗ trợ (0)\n",
      " Xác suất hỗ trợ   : 0.0228\n"
     ]
    },
    {
     "name": "stdin",
     "output_type": "stream",
     "text": [
      "\n",
      "Nhập bình luận (gõ 'exit' để thoát):  shop nhớ kiểm tra kỹ hàng\n"
     ]
    },
    {
     "name": "stdout",
     "output_type": "stream",
     "text": [
      "1/1 [==============================] - 0s 21ms/step\n",
      "\n",
      " Bình luận gốc     : shop nhớ kiểm tra kỹ hàng\n",
      " Sau xử lý         : cửa hàng nhớ kiểm tra kỹ hàng\n",
      " Dự đoán           :  Không cần hỗ trợ (0)\n",
      " Xác suất hỗ trợ   : 0.0930\n"
     ]
    },
    {
     "name": "stdin",
     "output_type": "stream",
     "text": [
      "\n",
      "Nhập bình luận (gõ 'exit' để thoát):  exit\n"
     ]
    }
   ],
   "source": [
    "import re\n",
    "import pickle\n",
    "import numpy as np\n",
    "from tensorflow.keras.preprocessing.sequence import pad_sequences\n",
    "import underthesea\n",
    "\n",
    "# ---------- Load mô hình và tokenizer ----------\n",
    "from tensorflow.keras.models import load_model\n",
    "model = load_model(\"support_model.keras\")\n",
    "\n",
    "with open(\"tokenizer.pkl\", \"rb\") as f:\n",
    "    tokenizer = pickle.load(f)\n",
    "\n",
    "#Chuẩn hóa dữ liệu\n",
    "replace_list = {\n",
    "       ':v':'hihi', '<3':'yêu', '♥️':'yêu','❤':'yêu','a':'anh','ac':'anh chị','ace':'anh chị em','ad':'quản lý',\n",
    "       'ae':'anh em','ak':'à','amin':'quản lý','androir':'android','app':'ứng dụng','auto ':'tự động',\n",
    "       'ây':'vậy','b nào':'bạn nào','bằg':'bằng','băng':'bằng','băp':'bắp','băt':'bắt','battery':'pin','bể':'vỡ',\n",
    "       'been':'bên','best':'nhất','best':'tốt nhất','bgqafy ':'ngày','bh':'bao giờ','bh':'bây giờ','bhx':'bảo hành',\n",
    "       'bi':'bị','big':'lớn','bik':'biết','bin':'pin','bit':'biết','bít':'biết','bn':'bạn','bông tróc':'bong tróc', 'k': 'không', 'ok': 'được',\n",
    "       'bro':'anh em','bt':'bình thường','bt':'biết','bth':'bình thường','bthg':'bình thường','bua':'bữa','bùn':'buồn',\n",
    "       'buonc':'buồn','bx':'hộp','bye':'tạm biệt','c':'chị','cac':'các','cam':'máy ảnh','card':'thẻ','châu':'khỏe',\n",
    "       'chiệu':'triệu','chíp':'chip','chội':'trội','chs':'chơi','chửa':'chữa','chug ':'chung','chup':'chụp','chuq':'chung',\n",
    "       'clip':'đoạn phim','cmt':'bình luận','co':'có','cở':'cỡ','cọc':'cột','cpu':'chíp xử lý','cty':'công ty',\n",
    "       'cua':'của','cũg':'cũng','cug ':'cũng','cuh':'cũng','cùi':'tệ','củng':'cũng','cụt':'cục','cv':'công việc',\n",
    "       'cx':'cũng','đ':' đồng','dag':'đang','dăng':'văng','dấp':'lỗi','dất':'rất','đay':'đấy','đâỳ':'đầy','đc':'được',\n",
    "       'dè':'rè','dể':'dễ','delay':'trễ','dêm':'đêm','đén':'đến','deplay ':'chậm','deu':'đều','diem':'điểm','dien':'diện',\n",
    "       'đien':'điển','điễn':'điển','dienmayxanh':'điện máy xanh','dín':'dính','dis':'văng','diss':'văng','dk':'được',\n",
    "       'dmx':'điện máy xanh','dô':'vào','dõ':'rõ','dỡ':'dở','đỗi':'đổi','download':'tải','drop':'tụt','dt':'điện thoại',\n",
    "       'đt':'điện thoại','đth':'điện thoại','đthoai':'điện thoại','du':'dù','dùg':'dùng','dừg':'dừng','đứg':'đứng',\n",
    "       'dụg ':'dụng','dung':'dùng','đụng':'chạm','đươc':'được','đuọc ':'được','đưowjc':'được','dựt ':'giật','dx':'được'\n",
    "       ,'đx':'được','đy':'đi','e':'em','ế':'không bán được','êm':'tốt','f':'facebook','fabook':'facebook',\n",
    "       'face':'facebook','fast':'nhanh','fb':'facebook','fim':'phim','fix':'sửa','flash sale':'giảm giá','fm':'đài',\n",
    "       'for what':'vì sao','fps':'tốc độ khung hình','full':'đầy','future':'tương lai','game':'trò chơi','gem':'trò chơi',\n",
    "       'geme':'trò chơi','gia tiên':'giá tiền','giât':'giật','giốg ':'giống','giử':'dữ','giùm':'dùm','gmae':'trò chơi',\n",
    "       'gởi':'gửi','gold':'vàng','gơn':'hơn','good':'tốt','good jup':'tốt','gop':'góp','gửa':'gửi','gủng':'cái','h':'giờ',\n",
    "       'haiz':'thở dài','hẵn ':'hẳn','hành':'hành','hazzz':'haizz','hc':'học','hcm':'hồ chí minh','hd':'chất lượng cao',\n",
    "       'hdh':'hệ điều hành','hđh':'hệ điều hành','headphone':'tai nghe','hên':'may mắn','hẻo':'yếu','hẹo':'yếu','het':'hết',\n",
    "       'hét':'hết','hic':'khóc','hieu':'hiểu','high-tech':'công nghệ cao','hít':'sử dụng','hiu':'hiểu','hỉu':'hiểu',\n",
    "       'hk':'không','hn':'hà nội','hnay':'hôm nay','hoài':'nhiều lần','hoi':'hơi','hới':'hơi','hời':'tốt',\n",
    "       'hoi han':'hối hận','hok':'không','hong':'không','hông':'không','hot':'nổi bật','hqua':'hôm qua','hs':'học sinh',\n",
    "       'hssv':'học sinh sinh viên','hut':'hút','huway ':'huawei','huwei ':'huawei','í':'ý','I like it':'tôi thích nó',\n",
    "       'ik':'đi','ip':'iphone','j':'gì','k':'không','kàm':'làm','kb':'không biết','kg':'không','kh':'không',\n",
    "       'khach':'khách hàng','khát phục':'khắc phục','khj':'khi','khoá ':'khóa','khóai ':'thích','khoẻ':'khỏe',\n",
    "       'khoẽ':'khỏe','khôg':'không','khoi đong':'khởi động','khong':'không','khoong ':'không','khuân':'khuôn',\n",
    "       'khủg':'khủng','kím':'kiếm','kipo':'tiêu cực','ko':'không','kt':'kiểm tra','ktra':'kiểm tra','la':'là',\n",
    "       'lác':'lỗi','lắc':'lỗi','lag':'lỗi','laii':'lại','lak':'giật','lan':'lần','lãng':'giật','lap':'máy tính',\n",
    "       'laptop':'máy tính','lay':'này','len toi':'lên tới','les':'led','lg':'lượng','lí':'lý','lien':'liên',\n",
    "       'like':'thích','liti':'nhỏ','live stream':'phát sóng trực tiếp','lm':'làm','ln':'luôn','loadd':'tải ',\n",
    "       'lôi':'lỗi','lổi':'lỗi','LOL ':'trò chơi','lởm':'kém chất lượng','lỏng lẽo':'lỏng lẻo','luc':'lúc','lun':'luôn',\n",
    "       'luong':'lượng','luot':'lướt','lưot ':'lượt','m':'mình','mạ':'trời','mắc công':'mất công','macseger':'messenger',\n",
    "       'mag':'màn','main':'chính','mak':'mà','man':'màn','màng':'màn','màng hình':'màn hình','mao ':'mau','mẩu':'mẫu',\n",
    "       'mầu ':'màu','max':'lớn nhất','may':'máy','mèn':'màn','méo gì':'làm gì','mih':'mình','mìk':'mình','min':'nhỏ nhât',\n",
    "       'mìn':'mình','mjh':'mình','mjk':'mình','mjnh':'minh','mk':'mình','mn':'mọi người','mng ':'mọi người','mo':'đâu',\n",
    "       'mò':'tìm','mobile':'điện thoại','mog':'mong','moi':'mới','mơi':'mới','ms':'mới','mún':'muốn','mước':'mức',\n",
    "       'mược':'mượt','muot':'mượt','mỷ':'mỹ','n':'nó','n':'nói chuyện','nãn':'nản','nayd':'này','nc':'nói chuyện',\n",
    "       'nch':'nói chuyện','nch':'nói chung','nếo ':'nếu','ng':'người','ngan':'ngang','nge':'nghe','nghiêm':'nghiệm',\n",
    "       'ngĩ':'nghĩ','ngốn':'sử dụng','nguon':'nguồn','nhah':'nhanh','nhan vien':'nhân viên','nhay':'nhạy','nhe':'nhé',\n",
    "       'nhèo':'nhòe','nhiet':'nhiệt','nhiểu':'nhiều','nhiu':'nhiều','nhìu':'nhiều','nhoè':'nhòe','như v':'như vậy',\n",
    "       'nhug':'nhưng','nhưg':'nhưng','nhữg':'những','nhung':'nhưng','nhuoc':'nhược','nhượt':'nhược','nock ao':'hạ gục',\n",
    "       'noi':'nói','nống':'nóng','not':'lưu ý','ns ':'nói','nsx':'ngày sản xuất','nt':'nhắn tin','ntin':'nhắn tin',\n",
    "       'ntn':'như thế nào','nũa':'nữa','nut ':'nút','nv':'nhân viên','nz':'như vậy','ô xi':'oxy','ofice':'văn phòng',\n",
    "       'ok':'được','ôk':'được','oke':'được','okee':'được','oki':'được','okie':'được','onl':'sử dụng',\n",
    "       'ộp ẹp':'không chắc chắn','option':'tùy chọn','or':'hoặc','out':'thoát','oỳ':'rồi','pải':'phải','phảm':'phẩm',\n",
    "       'phẩn':'phẩm','phan van':'phân vân','phèo':'vậy','phut ':'phút','pít':'biết','pro':'chất lượng cao','pùn':'buồn',\n",
    "       'pv':'giới thiệu','qá':'quá','qc':'quảng cáo','qtv':'quản trị viên','qua ve':'qua vẻ','quang trọng':'quan trọng',\n",
    "       'qus':'quá','r ':'rồi','rat':'rất','rát':'rất','rắt':'rất','rata':'rất','rễ':'dễ','rep':'trả lời',\n",
    "       'research':'nghiên cứu','reset':'cài đặt lại','restart':'khởi động lại','review':'đánh giá','rì':'gì',\n",
    "       'rinh':'mua','rỏ':'rõ','rùi':'rồi','rùng':'dùng','s':'sao','sac':'sạc','sài':'xài','sài':'dùng','sale':'giảm giá',\n",
    "       'sale off':'giảm giá','sâng':'sáng','sạt':'sạc','saving':'tiết kiệm','sd':'sử dụng','sdt':'số điện thoại',\n",
    "       'seal':'mới','search':'tìm kiếm','sefil':'chụp ảnh','selfie':'chụp ảnh','setting':'cài đặt','setup':'cài đặt',\n",
    "       'sexy':'quyến rũ','shiper':'nhân viên giao hàng','shop':'cửa hàng','skill':'kỹ năng','smooth':'mượt',\n",
    "       'so good':'rất tốt','sp':'sản phẩm','sphẩm':'sản phẩm','stars':'sao','sử':'xử','suất':'xuất','sưj':'sự',\n",
    "       'sước':'xước','super':'siêu','support':'hỗ trợ','sụt':'tụt','sv':'sinh viên','sx':'sản xuất','t':'tôi',\n",
    "       'T G D Đ':'thế giới di động','tằm ':'tầm','tes':'kiểm tra','test':'kiểm tra','tet':'tết','teung':'trung',\n",
    "       'tg':'thời gian','tgdd':'thế giới di động','tgdđ':'thế giới di động','thag':'tháng','thág':'tháng','ship':'giao','Ship':'giao',\n",
    "       'kh':'không','mik':'mình','j':'gì','ah':'ạ','nhiu':'nhiêu','mk':'mình',\n",
    "}\n",
    "pattern = re.compile(r'\\b(' + '|'.join(re.escape(key) for key in sorted(replace_list, key=lambda x: -len(x))) + r')\\b')\n",
    "def Util(text):\n",
    "    return pattern.sub(lambda match: replace_list[match.group(0)], text.lower())\n",
    "\n",
    "\n",
    "# ---------- Hàm rút gọn ký tự lặp lại ----------\n",
    "def reduce_repeated_chars(text):\n",
    "    return re.sub(r'(.)\\1{2,}', r'\\1', text)  # aaa -> a\n",
    "\n",
    "# ---------- Hàm tiền xử lý ----------\n",
    "def preprocess_text(text):\n",
    "    text = text.lower()\n",
    "    text = re.sub(r'\\d+', '', text)                          # Loại bỏ số\n",
    "    text = re.sub(r'[^\\w\\s]', ' ', text)                     # Loại bỏ dấu câu\n",
    "    text = reduce_repeated_chars(text)                       # Rút gọn chữ lặp\n",
    "    text = re.sub(r'\\s+', ' ', text).strip()                 # Loại khoảng trắng dư\n",
    "    \n",
    "    tokens = underthesea.word_tokenize(text)                 # Tách từ\n",
    "    tokens = list(map(Util, tokens))\n",
    "    return ' '.join(tokens)\n",
    "\n",
    "# ---------- Hàm dự đoán ----------\n",
    "def predict_comment(comment):\n",
    "    processed = preprocess_text(comment)\n",
    "    seq = tokenizer.texts_to_sequences([processed])\n",
    "    padded = pad_sequences(seq, maxlen=100, padding='post', truncating='post')\n",
    "    \n",
    "    prob = model.predict(padded)[0][0]\n",
    "    label = int(prob > 0.5)\n",
    "\n",
    "    print(f\"\\n Bình luận gốc     : {comment}\")\n",
    "    print(f\" Sau xử lý         : {processed}\")\n",
    "    print(f\" Dự đoán           : {' Cần hỗ trợ (1)' if label == 1 else ' Không cần hỗ trợ (0)'}\")\n",
    "    print(f\" Xác suất hỗ trợ   : {prob:.4f}\")\n",
    "\n",
    "# ---------- Giao diện nhập tay ----------\n",
    "while True:\n",
    "    user_input = input(\"\\nNhập bình luận (gõ 'exit' để thoát): \")\n",
    "    if user_input.lower() == 'exit':\n",
    "        break\n",
    "    predict_comment(user_input)\n"
   ]
  },
  {
   "cell_type": "markdown",
   "id": "31ab53da-39e7-4dde-91ea-5609402b691f",
   "metadata": {},
   "source": [
    "## Logistic Regression"
   ]
  },
  {
   "cell_type": "code",
   "execution_count": 117,
   "id": "33ed7504-6b0d-4e12-8d96-11eaf02f14e2",
   "metadata": {},
   "outputs": [
    {
     "name": "stdout",
     "output_type": "stream",
     "text": [
      " Logistic Regression \n",
      "KẾT QUẢ ĐÁNH GIÁ TRÊN TEST \n",
      "              precision    recall  f1-score   support\n",
      "\n",
      "           0     0.9765    0.9794    0.9780      2039\n",
      "           1     0.9803    0.9775    0.9789      2135\n",
      "\n",
      "    accuracy                         0.9784      4174\n",
      "   macro avg     0.9784    0.9785    0.9784      4174\n",
      "weighted avg     0.9784    0.9784    0.9784      4174\n",
      "\n"
     ]
    },
    {
     "data": {
      "image/png": "[encoded data removed]",
      "text/plain": [
       "<Figure size 640x480 with 2 Axes>"
      ]
     },
     "metadata": {},
     "output_type": "display_data"
    }
   ],
   "source": [
    "import pandas as pd\n",
    "from sklearn.feature_extraction.text import TfidfVectorizer\n",
    "from sklearn.linear_model import LogisticRegression\n",
    "from sklearn.metrics import classification_report, confusion_matrix\n",
    "import matplotlib.pyplot as plt\n",
    "import seaborn as sns\n",
    "\n",
    "\n",
    "train_df = pd.read_csv(\"train_70data.csv\")\n",
    "val_df = pd.read_csv(\"val_10data.csv\")\n",
    "test_df = pd.read_csv(\"test_20data.csv\")\n",
    "\n",
    "\n",
    "vectorizer = TfidfVectorizer(max_features=5000)\n",
    "X_train = vectorizer.fit_transform(train_df['comment'])\n",
    "X_val = vectorizer.transform(val_df['comment'])\n",
    "X_test = vectorizer.transform(test_df['comment'])\n",
    "\n",
    "y_train = train_df['support']\n",
    "y_val = val_df['support']\n",
    "y_test = test_df['support']\n",
    "\n",
    "\n",
    "log_model = LogisticRegression(max_iter=1000)\n",
    "log_model.fit(X_train, y_train)\n",
    "\n",
    "\n",
    "y_pred = log_model.predict(X_test)\n",
    "print(\" Logistic Regression \")\n",
    "print(\"KẾT QUẢ ĐÁNH GIÁ TRÊN TEST \")\n",
    "print(classification_report(y_test, y_pred, digits=4))\n",
    "\n",
    "cm = confusion_matrix(y_test, y_pred)\n",
    "sns.heatmap(cm, annot=True, fmt='d', cmap='Blues', xticklabels=['Không hỗ trợ', 'Cần hỗ trợ'], yticklabels=['Không hỗ trợ', 'Cần hỗ trợ'])\n",
    "plt.xlabel(\"Dự đoán\")\n",
    "plt.ylabel(\"Thực tế\")\n",
    "plt.title(\"Confusion Matrix - Logistic Regression\")\n",
    "plt.show()\n"
   ]
  },
  {
   "cell_type": "markdown",
   "id": "f47bdb66-8121-45a5-b317-1afdc0fa024a",
   "metadata": {},
   "source": [
    "## Naive Bayes"
   ]
  },
  {
   "cell_type": "code",
   "execution_count": 119,
   "id": "a3cac558-6cf6-4c4c-bc96-9b321733123f",
   "metadata": {},
   "outputs": [
    {
     "name": "stdout",
     "output_type": "stream",
     "text": [
      " Naive Bayes \n",
      " KẾT QUẢ ĐÁNH GIÁ TRÊN TEST \n",
      "              precision    recall  f1-score   support\n",
      "\n",
      "           0     0.9665    0.9196    0.9424      2039\n",
      "           1     0.9266    0.9696    0.9476      2135\n",
      "\n",
      "    accuracy                         0.9451      4174\n",
      "   macro avg     0.9465    0.9446    0.9450      4174\n",
      "weighted avg     0.9461    0.9451    0.9451      4174\n",
      "\n"
     ]
    },
    {
     "data": {
      "image/png": "[encoded data removed]",
      "text/plain": [
       "<Figure size 640x480 with 2 Axes>"
      ]
     },
     "metadata": {},
     "output_type": "display_data"
    }
   ],
   "source": [
    "import pandas as pd\n",
    "from sklearn.feature_extraction.text import TfidfVectorizer\n",
    "from sklearn.naive_bayes import MultinomialNB\n",
    "from sklearn.metrics import classification_report, confusion_matrix\n",
    "import matplotlib.pyplot as plt\n",
    "import seaborn as sns\n",
    "\n",
    "\n",
    "train_df = pd.read_csv(\"train_70data.csv\")\n",
    "val_df = pd.read_csv(\"val_10data.csv\")\n",
    "test_df = pd.read_csv(\"test_20data.csv\")\n",
    "\n",
    "\n",
    "vectorizer = TfidfVectorizer(max_features=5000)\n",
    "X_train = vectorizer.fit_transform(train_df['comment'])\n",
    "X_val = vectorizer.transform(val_df['comment'])\n",
    "X_test = vectorizer.transform(test_df['comment'])\n",
    "\n",
    "y_train = train_df['support']\n",
    "y_val = val_df['support']\n",
    "y_test = test_df['support']\n",
    "\n",
    "\n",
    "nb_model = MultinomialNB()\n",
    "nb_model.fit(X_train, y_train)\n",
    "\n",
    "\n",
    "y_pred = nb_model.predict(X_test)\n",
    "print(\" Naive Bayes \")\n",
    "print(\" KẾT QUẢ ĐÁNH GIÁ TRÊN TEST \")\n",
    "print(classification_report(y_test, y_pred, digits=4))\n",
    "\n",
    "\n",
    "cm = confusion_matrix(y_test, y_pred)\n",
    "sns.heatmap(cm, annot=True, fmt='d', cmap='Oranges', xticklabels=['Không hỗ trợ', 'Cần hỗ trợ'], yticklabels=['Không hỗ trợ', 'Cần hỗ trợ'])\n",
    "plt.xlabel(\"Dự đoán\")\n",
    "plt.ylabel(\"Thực tế\")\n",
    "plt.title(\"Confusion Matrix - Naive Bayes\")\n",
    "plt.show()\n"
   ]
  },
  {
   "cell_type": "markdown",
   "id": "7ad659b2-dcf0-497b-b51a-a37cd0e035da",
   "metadata": {},
   "source": [
    "## Random Forest"
   ]
  },
  {
   "cell_type": "code",
   "execution_count": 197,
   "id": "d0c9a51d-7c49-4138-82e0-95447346058c",
   "metadata": {},
   "outputs": [
    {
     "name": "stdout",
     "output_type": "stream",
     "text": [
      "       Random Forest \n",
      " KẾT QUẢ ĐÁNH GIÁ TRÊN TẬP TEST \n",
      "              precision    recall  f1-score   support\n",
      "\n",
      "           0     0.8830    0.9545    0.9174       506\n",
      "           1     0.9506    0.8738    0.9106       507\n",
      "\n",
      "    accuracy                         0.9141      1013\n",
      "   macro avg     0.9168    0.9142    0.9140      1013\n",
      "weighted avg     0.9169    0.9141    0.9140      1013\n",
      "\n"
     ]
    },
    {
     "data": {
      "image/png": "[encoded data removed]",
      "text/plain": [
       "<Figure size 640x480 with 2 Axes>"
      ]
     },
     "metadata": {},
     "output_type": "display_data"
    }
   ],
   "source": [
    "import pandas as pd\n",
    "from sklearn.feature_extraction.text import TfidfVectorizer\n",
    "from sklearn.ensemble import RandomForestClassifier\n",
    "from sklearn.metrics import classification_report, confusion_matrix\n",
    "import matplotlib.pyplot as plt\n",
    "import seaborn as sns\n",
    "\n",
    "# ===== Load dữ liệu mới =====\n",
    "train_df = pd.read_csv(\"train_70data.csv\")\n",
    "test_df = pd.read_csv(\"support_comment_test_fix.csv\") \n",
    "\n",
    "# ===== TF-IDF vectorization =====\n",
    "vectorizer = TfidfVectorizer(max_features=5000)\n",
    "X_train = vectorizer.fit_transform(train_df['comment'])\n",
    "X_test = vectorizer.transform(test_df['comment'])\n",
    "\n",
    "y_train = train_df['support']\n",
    "y_test = test_df['support']\n",
    "\n",
    "# ===== Huấn luyện mô hình Random Forest =====\n",
    "rf_model = RandomForestClassifier(n_estimators=150, random_state=42)\n",
    "rf_model.fit(X_train, y_train)\n",
    "\n",
    "# ===== Dự đoán & đánh giá =====\n",
    "y_pred = rf_model.predict(X_test)\n",
    "print(\"       Random Forest \")\n",
    "print(\" KẾT QUẢ ĐÁNH GIÁ TRÊN TẬP TEST \")\n",
    "print(classification_report(y_test, y_pred, digits=4))\n",
    "\n",
    "# ===== Confusion Matrix =====\n",
    "cm = confusion_matrix(y_test, y_pred)\n",
    "sns.heatmap(cm, annot=True, fmt='d', cmap='Blues', \n",
    "            xticklabels=['Không hỗ trợ', 'Cần hỗ trợ'], \n",
    "            yticklabels=['Không hỗ trợ', 'Cần hỗ trợ'])\n",
    "plt.xlabel(\"Dự đoán\")\n",
    "plt.ylabel(\"Thực tế\")\n",
    "plt.title(\"Confusion Matrix - Random Forest\")\n",
    "plt.show()\n"
   ]
  },
  {
   "cell_type": "markdown",
   "id": "95c7cf83-ca36-4f88-b119-046154c74d83",
   "metadata": {},
   "source": [
    "## XGBoost"
   ]
  },
  {
   "cell_type": "code",
   "execution_count": 198,
   "id": "5c9a7792-276e-4056-851b-6eba3800506f",
   "metadata": {},
   "outputs": [
    {
     "name": "stderr",
     "output_type": "stream",
     "text": [
      "C:\\Users\\Admin\\anaconda3\\lib\\site-packages\\xgboost\\training.py:183: UserWarning: [14:18:15] WARNING: C:\\actions-runner\\_work\\xgboost\\xgboost\\src\\learner.cc:738: \n",
      "Parameters: { \"use_label_encoder\" } are not used.\n",
      "\n",
      "  bst.update(dtrain, iteration=i, fobj=obj)\n"
     ]
    },
    {
     "name": "stdout",
     "output_type": "stream",
     "text": [
      "Accuracy (XGBoost): 0.9141\n",
      "Classification Report (XGBoost):\n",
      "              precision    recall  f1-score   support\n",
      "\n",
      "           0     0.9068    0.9229    0.9148       506\n",
      "           1     0.9217    0.9053    0.9134       507\n",
      "\n",
      "    accuracy                         0.9141      1013\n",
      "   macro avg     0.9142    0.9141    0.9141      1013\n",
      "weighted avg     0.9142    0.9141    0.9141      1013\n",
      "\n"
     ]
    },
    {
     "data": {
      "image/png": "[encoded data removed]",
      "text/plain": [
       "<Figure size 640x480 with 2 Axes>"
      ]
     },
     "metadata": {},
     "output_type": "display_data"
    }
   ],
   "source": [
    "import pandas as pd\n",
    "import xgboost as xgb\n",
    "from sklearn.metrics import accuracy_score, classification_report, confusion_matrix\n",
    "from sklearn.feature_extraction.text import TfidfVectorizer\n",
    "import seaborn as sns\n",
    "import matplotlib.pyplot as plt\n",
    "\n",
    "# Đọc dữ liệu\n",
    "train_data = pd.read_csv('train_70data.csv')\n",
    "test_data = pd.read_csv('support_comment_test_fix.csv')  # <-- tập test đã gộp val\n",
    "\n",
    "X_train = train_data['comment']\n",
    "y_train = train_data['support']\n",
    "X_test = test_data['comment']\n",
    "y_test = test_data['support']\n",
    "\n",
    "# TF-IDF vectorization\n",
    "vectorizer = TfidfVectorizer(max_features=5000)\n",
    "X_train_tfidf = vectorizer.fit_transform(X_train)\n",
    "X_test_tfidf = vectorizer.transform(X_test)\n",
    "\n",
    "# Huấn luyện mô hình XGBoost\n",
    "model_xgb = xgb.XGBClassifier(use_label_encoder=False, eval_metric='logloss', random_state=42)\n",
    "model_xgb.fit(X_train_tfidf, y_train)\n",
    "\n",
    "# Dự đoán\n",
    "y_pred = model_xgb.predict(X_test_tfidf)\n",
    "\n",
    "# Đánh giá\n",
    "accuracy = accuracy_score(y_test, y_pred)\n",
    "print(f\"Accuracy (XGBoost): {accuracy:.4f}\")\n",
    "print(\"Classification Report (XGBoost):\")\n",
    "print(classification_report(y_test, y_pred, digits=4))\n",
    "\n",
    "# Confusion matrix\n",
    "cm = confusion_matrix(y_test, y_pred)\n",
    "sns.heatmap(cm, annot=True, fmt='d', cmap='Blues',\n",
    "            xticklabels=['Không hỗ trợ', 'Cần hỗ trợ'],\n",
    "            yticklabels=['Không hỗ trợ', 'Cần hỗ trợ'])\n",
    "plt.xlabel(\"Dự đoán\")\n",
    "plt.ylabel(\"Thực tế\")\n",
    "plt.title(\"Confusion Matrix - XGBoost\")\n",
    "plt.show()\n"
   ]
  },
  {
   "cell_type": "markdown",
   "id": "e6279848-998e-40c7-a2ff-f8b99995b919",
   "metadata": {},
   "source": [
    "## SVM"
   ]
  },
  {
   "cell_type": "code",
   "execution_count": 201,
   "id": "499710d4-cf53-430d-bc53-9d782cf28961",
   "metadata": {},
   "outputs": [
    {
     "name": "stdout",
     "output_type": "stream",
     "text": [
      "Accuracy (SVM): 0.9052\n",
      "Classification Report (SVM):\n",
      "              precision    recall  f1-score   support\n",
      "\n",
      "           0     0.8942    0.9190    0.9064       506\n",
      "           1     0.9168    0.8915    0.9040       507\n",
      "\n",
      "    accuracy                         0.9052      1013\n",
      "   macro avg     0.9055    0.9052    0.9052      1013\n",
      "weighted avg     0.9055    0.9052    0.9052      1013\n",
      "\n"
     ]
    },
    {
     "data": {
      "image/png": "[encoded data removed]",
      "text/plain": [
       "<Figure size 640x480 with 2 Axes>"
      ]
     },
     "metadata": {},
     "output_type": "display_data"
    }
   ],
   "source": [
    "import pandas as pd\n",
    "from sklearn.svm import SVC\n",
    "from sklearn.metrics import accuracy_score, classification_report, confusion_matrix\n",
    "from sklearn.feature_extraction.text import TfidfVectorizer\n",
    "import seaborn as sns\n",
    "import matplotlib.pyplot as plt\n",
    "\n",
    "# Đọc dữ liệu\n",
    "train_data = pd.read_csv('train_70data.csv')\n",
    "test_data = pd.read_csv('support_comment_test_fix.csv')  # <-- dùng file đã gộp\n",
    "\n",
    "X_train = train_data['comment']\n",
    "y_train = train_data['support']\n",
    "X_test = test_data['comment']\n",
    "y_test = test_data['support']\n",
    "\n",
    "# TF-IDF vectorization\n",
    "vectorizer = TfidfVectorizer(max_features=5000)\n",
    "X_train_tfidf = vectorizer.fit_transform(X_train)\n",
    "X_test_tfidf = vectorizer.transform(X_test)\n",
    "\n",
    "# Huấn luyện mô hình SVM\n",
    "svm_model = SVC(probability=True, kernel='linear', random_state=42)  # nên chỉ rõ kernel\n",
    "svm_model.fit(X_train_tfidf, y_train)\n",
    "\n",
    "# Dự đoán\n",
    "y_pred_svm = svm_model.predict(X_test_tfidf)\n",
    "\n",
    "# Đánh giá\n",
    "accuracy_svm = accuracy_score(y_test, y_pred_svm)\n",
    "print(f\"Accuracy (SVM): {accuracy_svm:.4f}\")\n",
    "print(\"Classification Report (SVM):\")\n",
    "print(classification_report(y_test, y_pred_svm, digits=4))\n",
    "\n",
    "# Confusion matrix\n",
    "cm = confusion_matrix(y_test, y_pred_svm)\n",
    "sns.heatmap(cm, annot=True, fmt='d', cmap='Blues',\n",
    "            xticklabels=['Không hỗ trợ', 'Cần hỗ trợ'],\n",
    "            yticklabels=['Không hỗ trợ', 'Cần hỗ trợ'])\n",
    "plt.xlabel(\"Dự đoán\")\n",
    "plt.ylabel(\"Thực tế\")\n",
    "plt.title(\"Confusion Matrix - SVM\")\n",
    "plt.show()\n"
   ]
  },
  {
   "cell_type": "code",
   "execution_count": 34,
   "id": "a68998ec-e27e-446a-883b-19e4e0d40ec1",
   "metadata": {},
   "outputs": [
    {
     "data": {
      "text/plain": [
       "['tfidf_vectorizer.pkl']"
      ]
     },
     "execution_count": 34,
     "metadata": {},
     "output_type": "execute_result"
    }
   ],
   "source": [
    "import joblib\n",
    "\n",
    "# Sau khi train:\n",
    "joblib.dump(rf_model, 'rf_model.pkl')\n",
    "joblib.dump(model_xgb, 'xgb_model.pkl')\n",
    "joblib.dump(svm_model, 'svm_model.pkl')\n",
    "joblib.dump(vectorizer, 'tfidf_vectorizer.pkl')  # Lưu vectorizer để dùng lại khi dự đoán\n"
   ]
  },
  {
   "cell_type": "code",
   "execution_count": 36,
   "id": "2b92b7d8-f9d9-4f62-b79a-f66531608c66",
   "metadata": {},
   "outputs": [],
   "source": [
    "import joblib\n",
    "\n",
    "# Load mô hình\n",
    "rf_model = joblib.load('rf_model.pkl')\n",
    "model_xgb = joblib.load('xgb_model.pkl')\n",
    "model_svm = joblib.load('svm_model.pkl')\n",
    "\n",
    "# Load vectorizer (ví dụ: TfidfVectorizer)\n",
    "vectorizer = joblib.load('tfidf_vectorizer.pkl')"
   ]
  },
  {
   "cell_type": "code",
   "execution_count": 114,
   "id": "4c12ab6b-f675-4504-9ec0-8b311acb9741",
   "metadata": {},
   "outputs": [
    {
     "name": "stdout",
     "output_type": "stream",
     "text": [
      "1/1 [==============================] - 1s 1s/step\n",
      "\n",
      " Bình luận: làm thế nào để giàu ạ\n",
      " Xác suất trung bình: 0.1943\n",
      " Dự đoán cuối cùng: Không cần hỗ trợ (0)\n"
     ]
    }
   ],
   "source": [
    "import pandas as pd\n",
    "import numpy as np\n",
    "import pickle\n",
    "from tensorflow.keras.models import load_model\n",
    "from tensorflow.keras.preprocessing.sequence import pad_sequences\n",
    "from sklearn.metrics import accuracy_score, precision_score, recall_score, f1_score, classification_report\n",
    "import underthesea\n",
    "from tensorflow.keras.models import load_model\n",
    "model = load_model(\"support_model.keras\")\n",
    "with open(\"tokenizer.pkl\", \"rb\") as f:\n",
    "    tokenizer = pickle.load(f)\n",
    "import numpy as np\n",
    "\n",
    "def ensemble_predict(comment_text):\n",
    "\n",
    "    processed = ' '.join(underthesea.word_tokenize(comment_text))\n",
    "    tfidf_input = vectorizer.transform([processed])\n",
    "    lstm_seq = tokenizer.texts_to_sequences([processed])\n",
    "    lstm_pad = pad_sequences(lstm_seq, maxlen=100, padding='post', truncating='post')\n",
    "\n",
    "    # Predict probabilities\n",
    "    prob_xg = model_xgb.predict_proba(tfidf_input)[0][1]\n",
    "    prob_rf = rf_model.predict_proba(tfidf_input)[0][1]\n",
    "    prob_lstm = model.predict(lstm_pad)[0][0]\n",
    "    svm_prob = model_svm.decision_function(tfidf_input)\n",
    "    svm_prob = 1 / (1 + np.exp(-svm_prob))  # Sigmoid để convert về xác suất\n",
    "    svm_prob = svm_prob[0]\n",
    "    # Soft voting\n",
    "    avg_prob = np.mean([prob_xg, prob_rf, prob_lstm,svm_prob])\n",
    "    label = int(avg_prob > 0.5)\n",
    "\n",
    "    print(f\"\\n Bình luận: {comment_text}\")\n",
    "    print(f\" Xác suất trung bình: {avg_prob:.4f}\")\n",
    "    print(f\" Dự đoán cuối cùng: {'Cần hỗ trợ (1)' if label == 1 else 'Không cần hỗ trợ (0)'}\")\n",
    "ensemble_predict(\"làm thế nào để giàu ạ\")\n"
   ]
  },
  {
   "cell_type": "code",
   "execution_count": 195,
   "id": "8df879d0-1c6e-4693-b8c2-9fbd64615c48",
   "metadata": {},
   "outputs": [
    {
     "name": "stdout",
     "output_type": "stream",
     "text": [
      "1013\n",
      "comment    object\n",
      "label      object\n",
      "rate        int64\n",
      "support     int64\n",
      "dtype: object\n"
     ]
    }
   ],
   "source": [
    "dftest = pd.read_csv(\"./support_comment_test.csv\")\n",
    "print(len(dftest))\n",
    "print(dftest.dtypes)"
   ]
  },
  {
   "cell_type": "code",
   "execution_count": 197,
   "id": "b29f50fc-49ed-45cc-a259-6bf8566a2dcc",
   "metadata": {},
   "outputs": [
    {
     "data": {
      "text/html": [
       "<div>\n",
       "<style scoped>\n",
       "    .dataframe tbody tr th:only-of-type {\n",
       "        vertical-align: middle;\n",
       "    }\n",
       "\n",
       "    .dataframe tbody tr th {\n",
       "        vertical-align: top;\n",
       "    }\n",
       "\n",
       "    .dataframe thead th {\n",
       "        text-align: right;\n",
       "    }\n",
       "</style>\n",
       "<table border=\"1\" class=\"dataframe\">\n",
       "  <thead>\n",
       "    <tr style=\"text-align: right;\">\n",
       "      <th></th>\n",
       "      <th>comment</th>\n",
       "      <th>label</th>\n",
       "      <th>rate</th>\n",
       "      <th>support</th>\n",
       "    </tr>\n",
       "  </thead>\n",
       "  <tbody>\n",
       "    <tr>\n",
       "      <th>0</th>\n",
       "      <td>mình cao m7 có mặc vừa không shop</td>\n",
       "      <td>NEU</td>\n",
       "      <td>3</td>\n",
       "      <td>1</td>\n",
       "    </tr>\n",
       "    <tr>\n",
       "      <th>1</th>\n",
       "      <td>mua về mặc không vừa, trả hàng được không</td>\n",
       "      <td>NEU</td>\n",
       "      <td>3</td>\n",
       "      <td>1</td>\n",
       "    </tr>\n",
       "    <tr>\n",
       "      <th>2</th>\n",
       "      <td>tôi muốn trả hàng thì phải làm sao</td>\n",
       "      <td>NEU</td>\n",
       "      <td>3</td>\n",
       "      <td>1</td>\n",
       "    </tr>\n",
       "    <tr>\n",
       "      <th>3</th>\n",
       "      <td>chính sách đổi trả thế nào vậy shop</td>\n",
       "      <td>NEU</td>\n",
       "      <td>3</td>\n",
       "      <td>1</td>\n",
       "    </tr>\n",
       "    <tr>\n",
       "      <th>4</th>\n",
       "      <td>tư vấn giúp em với, em nặng 50kg</td>\n",
       "      <td>NEU</td>\n",
       "      <td>3</td>\n",
       "      <td>1</td>\n",
       "    </tr>\n",
       "  </tbody>\n",
       "</table>\n",
       "</div>"
      ],
      "text/plain": [
       "                                     comment label  rate  support\n",
       "0          mình cao m7 có mặc vừa không shop   NEU     3        1\n",
       "1  mua về mặc không vừa, trả hàng được không   NEU     3        1\n",
       "2         tôi muốn trả hàng thì phải làm sao   NEU     3        1\n",
       "3        chính sách đổi trả thế nào vậy shop   NEU     3        1\n",
       "4           tư vấn giúp em với, em nặng 50kg   NEU     3        1"
      ]
     },
     "execution_count": 197,
     "metadata": {},
     "output_type": "execute_result"
    }
   ],
   "source": [
    "#đưa về chữ thường\n",
    "dftest[\"comment\"] = dftest[\"comment\"].str.lower()\n",
    "dftest.head()"
   ]
  },
  {
   "cell_type": "code",
   "execution_count": 199,
   "id": "bf07c2ec-eb6d-44ad-86fe-0b2e3a176c64",
   "metadata": {},
   "outputs": [
    {
     "data": {
      "text/html": [
       "<div>\n",
       "<style scoped>\n",
       "    .dataframe tbody tr th:only-of-type {\n",
       "        vertical-align: middle;\n",
       "    }\n",
       "\n",
       "    .dataframe tbody tr th {\n",
       "        vertical-align: top;\n",
       "    }\n",
       "\n",
       "    .dataframe thead th {\n",
       "        text-align: right;\n",
       "    }\n",
       "</style>\n",
       "<table border=\"1\" class=\"dataframe\">\n",
       "  <thead>\n",
       "    <tr style=\"text-align: right;\">\n",
       "      <th></th>\n",
       "      <th>comment</th>\n",
       "      <th>label</th>\n",
       "      <th>rate</th>\n",
       "      <th>support</th>\n",
       "    </tr>\n",
       "  </thead>\n",
       "  <tbody>\n",
       "    <tr>\n",
       "      <th>0</th>\n",
       "      <td>mình cao m có mặc vừa không shop</td>\n",
       "      <td>NEU</td>\n",
       "      <td>3</td>\n",
       "      <td>1</td>\n",
       "    </tr>\n",
       "    <tr>\n",
       "      <th>1</th>\n",
       "      <td>mua về mặc không vừa, trả hàng được không</td>\n",
       "      <td>NEU</td>\n",
       "      <td>3</td>\n",
       "      <td>1</td>\n",
       "    </tr>\n",
       "    <tr>\n",
       "      <th>2</th>\n",
       "      <td>tôi muốn trả hàng thì phải làm sao</td>\n",
       "      <td>NEU</td>\n",
       "      <td>3</td>\n",
       "      <td>1</td>\n",
       "    </tr>\n",
       "    <tr>\n",
       "      <th>3</th>\n",
       "      <td>chính sách đổi trả thế nào vậy shop</td>\n",
       "      <td>NEU</td>\n",
       "      <td>3</td>\n",
       "      <td>1</td>\n",
       "    </tr>\n",
       "    <tr>\n",
       "      <th>4</th>\n",
       "      <td>tư vấn giúp em với, em nặng kg</td>\n",
       "      <td>NEU</td>\n",
       "      <td>3</td>\n",
       "      <td>1</td>\n",
       "    </tr>\n",
       "  </tbody>\n",
       "</table>\n",
       "</div>"
      ],
      "text/plain": [
       "                                     comment label  rate  support\n",
       "0           mình cao m có mặc vừa không shop   NEU     3        1\n",
       "1  mua về mặc không vừa, trả hàng được không   NEU     3        1\n",
       "2         tôi muốn trả hàng thì phải làm sao   NEU     3        1\n",
       "3        chính sách đổi trả thế nào vậy shop   NEU     3        1\n",
       "4             tư vấn giúp em với, em nặng kg   NEU     3        1"
      ]
     },
     "execution_count": 199,
     "metadata": {},
     "output_type": "execute_result"
    }
   ],
   "source": [
    "#loại bỏ số\n",
    "dftest[\"comment\"] = dftest[\"comment\"].astype(str).str.replace(r'\\d+', '', regex=True)\n",
    "dftest.head()"
   ]
  },
  {
   "cell_type": "code",
   "execution_count": 201,
   "id": "7ae71363-2764-4a7e-8885-2a308fcd6ad0",
   "metadata": {},
   "outputs": [],
   "source": [
    "#Loại bỏ dấu câu\n",
    "dftest[\"comment\"] = dftest[\"comment\"].astype(str).str.replace(r'[^\\w\\s]', '', regex=True)"
   ]
  },
  {
   "cell_type": "code",
   "execution_count": 203,
   "id": "949bf9bd-2742-443d-873e-dbe54915fa4f",
   "metadata": {},
   "outputs": [],
   "source": [
    "# Loại bỏ khoảng trắng dư thừa\n",
    "dftest[\"comment\"] = dftest[\"comment\"].astype(str).str.replace(r'\\s+', ' ', regex=True).str.strip()"
   ]
  },
  {
   "cell_type": "code",
   "execution_count": 205,
   "id": "06973364-5dde-4550-884b-d26d70544e46",
   "metadata": {},
   "outputs": [],
   "source": [
    "# Loại bỏ các chữ cái giống nhau liên tiếp \n",
    "dftest[\"comment\"] = dftest[\"comment\"].astype(str).str.replace(r'(.)\\1+', r'\\1', regex=True)"
   ]
  },
  {
   "cell_type": "code",
   "execution_count": 207,
   "id": "69d4ced6-6f3b-47ee-8965-6dbe804a4dfa",
   "metadata": {},
   "outputs": [
    {
     "name": "stdout",
     "output_type": "stream",
     "text": [
      "0            [mình, cao, m, có, mặc, vừa, không, shop]\n",
      "1    [mua, về, mặc, không, vừa, trả, hàng, được, kh...\n",
      "2           [tôi, muốn, trả, hàng, thì, phải, làm sao]\n",
      "3           [chính sách, đổi, trả, thế nào, vậy, shop]\n",
      "4                [tư vấn, giúp, em, với, em, nặng, kg]\n",
      "Name: comment, dtype: object\n"
     ]
    }
   ],
   "source": [
    "# Tách từ trong cột 'comment'\n",
    "from underthesea import word_tokenize\n",
    "dftest[\"comment\"] = dftest[\"comment\"].apply(lambda x: word_tokenize(x))\n",
    "\n",
    "print(dftest[\"comment\"].head())"
   ]
  },
  {
   "cell_type": "code",
   "execution_count": 208,
   "id": "568837b7-bea4-4e30-8978-e35eb2bba80f",
   "metadata": {},
   "outputs": [],
   "source": [
    "#Chuẩn hóa dữ liệu\n",
    "replace_list = {\n",
    "       ':v':'hihi', '<3':'yêu', '♥️':'yêu','❤':'yêu','a':'anh','ac':'anh chị','ace':'anh chị em','ad':'quản lý',\n",
    "       'ae':'anh em','ak':'à','amin':'quản lý','androir':'android','app':'ứng dụng','auto ':'tự động',\n",
    "       'ây':'vậy','b nào':'bạn nào','bằg':'bằng','băng':'bằng','băp':'bắp','băt':'bắt','battery':'pin','bể':'vỡ',\n",
    "       'been':'bên','best':'nhất','best':'tốt nhất','bgqafy ':'ngày','bh':'bao giờ','bh':'bây giờ','bhx':'bảo hành',\n",
    "       'bi':'bị','big':'lớn','bik':'biết','bin':'pin','bit':'biết','bít':'biết','bn':'bạn','bông tróc':'bong tróc', 'k': 'không', 'ok': 'được',\n",
    "       'bro':'anh em','bt':'bình thường','bt':'biết','bth':'bình thường','bthg':'bình thường','bua':'bữa','bùn':'buồn',\n",
    "       'buonc':'buồn','bx':'hộp','bye':'tạm biệt','c':'chị','cac':'các','cam':'máy ảnh','card':'thẻ','châu':'khỏe',\n",
    "       'chiệu':'triệu','chíp':'chip','chội':'trội','chs':'chơi','chửa':'chữa','chug ':'chung','chup':'chụp','chuq':'chung',\n",
    "       'clip':'đoạn phim','cmt':'bình luận','co':'có','cở':'cỡ','cọc':'cột','cpu':'chíp xử lý','cty':'công ty',\n",
    "       'cua':'của','cũg':'cũng','cug ':'cũng','cuh':'cũng','cùi':'tệ','củng':'cũng','cụt':'cục','cv':'công việc',\n",
    "       'cx':'cũng','đ':' đồng','dag':'đang','dăng':'văng','dấp':'lỗi','dất':'rất','đay':'đấy','đâỳ':'đầy','đc':'được',\n",
    "       'dè':'rè','dể':'dễ','delay':'trễ','dêm':'đêm','đén':'đến','deplay ':'chậm','deu':'đều','diem':'điểm','dien':'diện',\n",
    "       'đien':'điển','điễn':'điển','dienmayxanh':'điện máy xanh','dín':'dính','dis':'văng','diss':'văng','dk':'được',\n",
    "       'dmx':'điện máy xanh','dô':'vào','dõ':'rõ','dỡ':'dở','đỗi':'đổi','download':'tải','drop':'tụt','dt':'điện thoại',\n",
    "       'đt':'điện thoại','đth':'điện thoại','đthoai':'điện thoại','du':'dù','dùg':'dùng','dừg':'dừng','đứg':'đứng',\n",
    "       'dụg ':'dụng','dung':'dùng','đụng':'chạm','đươc':'được','đuọc ':'được','đưowjc':'được','dựt ':'giật','dx':'được'\n",
    "       ,'đx':'được','đy':'đi','e':'em','ế':'không bán được','êm':'tốt','f':'facebook','fabook':'facebook',\n",
    "       'face':'facebook','fast':'nhanh','fb':'facebook','fim':'phim','fix':'sửa','flash sale':'giảm giá','fm':'đài',\n",
    "       'for what':'vì sao','fps':'tốc độ khung hình','full':'đầy','future':'tương lai','game':'trò chơi','gem':'trò chơi',\n",
    "       'geme':'trò chơi','gia tiên':'giá tiền','giât':'giật','giốg ':'giống','giử':'dữ','giùm':'dùm','gmae':'trò chơi',\n",
    "       'gởi':'gửi','gold':'vàng','gơn':'hơn','good':'tốt','good jup':'tốt','gop':'góp','gửa':'gửi','gủng':'cái','h':'giờ',\n",
    "       'haiz':'thở dài','hẵn ':'hẳn','hành':'hành','hazzz':'haizz','hc':'học','hcm':'hồ chí minh','hd':'chất lượng cao',\n",
    "       'hdh':'hệ điều hành','hđh':'hệ điều hành','headphone':'tai nghe','hên':'may mắn','hẻo':'yếu','hẹo':'yếu','het':'hết',\n",
    "       'hét':'hết','hic':'khóc','hieu':'hiểu','high-tech':'công nghệ cao','hít':'sử dụng','hiu':'hiểu','hỉu':'hiểu',\n",
    "       'hk':'không','hn':'hà nội','hnay':'hôm nay','hoài':'nhiều lần','hoi':'hơi','hới':'hơi','hời':'tốt',\n",
    "       'hoi han':'hối hận','hok':'không','hong':'không','hông':'không','hot':'nổi bật','hqua':'hôm qua','hs':'học sinh',\n",
    "       'hssv':'học sinh sinh viên','hut':'hút','huway ':'huawei','huwei ':'huawei','í':'ý','I like it':'tôi thích nó',\n",
    "       'ik':'đi','ip':'iphone','j':'gì','k':'không','kàm':'làm','kb':'không biết','kg':'không','kh':'không',\n",
    "       'khach':'khách hàng','khát phục':'khắc phục','khj':'khi','khoá ':'khóa','khóai ':'thích','khoẻ':'khỏe',\n",
    "       'khoẽ':'khỏe','khôg':'không','khoi đong':'khởi động','khong':'không','khoong ':'không','khuân':'khuôn',\n",
    "       'khủg':'khủng','kím':'kiếm','kipo':'tiêu cực','ko':'không','kt':'kiểm tra','ktra':'kiểm tra','la':'là',\n",
    "       'lác':'lỗi','lắc':'lỗi','lag':'lỗi','laii':'lại','lak':'giật','lan':'lần','lãng':'giật','lap':'máy tính',\n",
    "       'laptop':'máy tính','lay':'này','len toi':'lên tới','les':'led','lg':'lượng','lí':'lý','lien':'liên',\n",
    "       'like':'thích','liti':'nhỏ','live stream':'phát sóng trực tiếp','lm':'làm','ln':'luôn','loadd':'tải ',\n",
    "       'lôi':'lỗi','lổi':'lỗi','LOL ':'trò chơi','lởm':'kém chất lượng','lỏng lẽo':'lỏng lẻo','luc':'lúc','lun':'luôn',\n",
    "       'luong':'lượng','luot':'lướt','lưot ':'lượt','m':'mình','mạ':'trời','mắc công':'mất công','macseger':'messenger',\n",
    "       'mag':'màn','main':'chính','mak':'mà','man':'màn','màng':'màn','màng hình':'màn hình','mao ':'mau','mẩu':'mẫu',\n",
    "       'mầu ':'màu','max':'lớn nhất','may':'máy','mèn':'màn','méo gì':'làm gì','mih':'mình','mìk':'mình','min':'nhỏ nhât',\n",
    "       'mìn':'mình','mjh':'mình','mjk':'mình','mjnh':'minh','mk':'mình','mn':'mọi người','mng ':'mọi người','mo':'đâu',\n",
    "       'mò':'tìm','mobile':'điện thoại','mog':'mong','moi':'mới','mơi':'mới','ms':'mới','mún':'muốn','mước':'mức',\n",
    "       'mược':'mượt','muot':'mượt','mỷ':'mỹ','n':'nó','n':'nói chuyện','nãn':'nản','nayd':'này','nc':'nói chuyện',\n",
    "       'nch':'nói chuyện','nch':'nói chung','nếo ':'nếu','ng':'người','ngan':'ngang','nge':'nghe','nghiêm':'nghiệm',\n",
    "       'ngĩ':'nghĩ','ngốn':'sử dụng','nguon':'nguồn','nhah':'nhanh','nhan vien':'nhân viên','nhay':'nhạy','nhe':'nhé',\n",
    "       'nhèo':'nhòe','nhiet':'nhiệt','nhiểu':'nhiều','nhiu':'nhiều','nhìu':'nhiều','nhoè':'nhòe','như v':'như vậy',\n",
    "       'nhug':'nhưng','nhưg':'nhưng','nhữg':'những','nhung':'nhưng','nhuoc':'nhược','nhượt':'nhược','nock ao':'hạ gục',\n",
    "       'noi':'nói','nống':'nóng','not':'lưu ý','ns ':'nói','nsx':'ngày sản xuất','nt':'nhắn tin','ntin':'nhắn tin',\n",
    "       'ntn':'như thế nào','nũa':'nữa','nut ':'nút','nv':'nhân viên','nz':'như vậy','ô xi':'oxy','ofice':'văn phòng',\n",
    "       'ok':'được','ôk':'được','oke':'được','okee':'được','oki':'được','okie':'được','onl':'sử dụng',\n",
    "       'ộp ẹp':'không chắc chắn','option':'tùy chọn','or':'hoặc','out':'thoát','oỳ':'rồi','pải':'phải','phảm':'phẩm',\n",
    "       'phẩn':'phẩm','phan van':'phân vân','phèo':'vậy','phut ':'phút','pít':'biết','pro':'chất lượng cao','pùn':'buồn',\n",
    "       'pv':'giới thiệu','qá':'quá','qc':'quảng cáo','qtv':'quản trị viên','qua ve':'qua vẻ','quang trọng':'quan trọng',\n",
    "       'qus':'quá','r ':'rồi','rat':'rất','rát':'rất','rắt':'rất','rata':'rất','rễ':'dễ','rep':'trả lời',\n",
    "       'research':'nghiên cứu','reset':'cài đặt lại','restart':'khởi động lại','review':'đánh giá','rì':'gì',\n",
    "       'rinh':'mua','rỏ':'rõ','rùi':'rồi','rùng':'dùng','s':'sao','sac':'sạc','sài':'xài','sài':'dùng','sale':'giảm giá',\n",
    "       'sale off':'giảm giá','sâng':'sáng','sạt':'sạc','saving':'tiết kiệm','sd':'sử dụng','sdt':'số điện thoại',\n",
    "       'seal':'mới','search':'tìm kiếm','sefil':'chụp ảnh','selfie':'chụp ảnh','setting':'cài đặt','setup':'cài đặt',\n",
    "       'sexy':'quyến rũ','shiper':'nhân viên giao hàng','shop':'cửa hàng','skill':'kỹ năng','smooth':'mượt',\n",
    "       'so good':'rất tốt','sp':'sản phẩm','sphẩm':'sản phẩm','stars':'sao','sử':'xử','suất':'xuất','sưj':'sự',\n",
    "       'sước':'xước','super':'siêu','support':'hỗ trợ','sụt':'tụt','sv':'sinh viên','sx':'sản xuất','t':'tôi',\n",
    "       'T G D Đ':'thế giới di động','tằm ':'tầm','tes':'kiểm tra','test':'kiểm tra','tet':'tết','teung':'trung',\n",
    "       'tg':'thời gian','tgdd':'thế giới di động','tgdđ':'thế giới di động','thag':'tháng','thág':'tháng','ship':'giao','Ship':'giao',\n",
    "       'kh':'không','mik':'mình','j':'gì','ah':'ạ','nhiu':'nhiêu','mk':'mình',\n",
    "}\n",
    "pattern = re.compile(r'\\b(' + '|'.join(re.escape(key) for key in sorted(replace_list, key=lambda x: -len(x))) + r')\\b')\n",
    "def Util(text):\n",
    "    return pattern.sub(lambda match: replace_list[match.group(0)], text.lower())\n",
    "dftest['comment'] = dftest['comment'].astype(str).apply(Util)\n",
    "\n",
    "\n",
    "dftest['comment'] = dftest['comment'].apply(lambda x: Util(x) if isinstance(x, str) else \"\")\n",
    "\n",
    "\n",
    "\n",
    "dftest['comment'] = dftest['comment'].apply(Util)"
   ]
  },
  {
   "cell_type": "code",
   "execution_count": 211,
   "id": "9c4725fd-614e-4454-97cd-b10bf614b691",
   "metadata": {},
   "outputs": [],
   "source": [
    "#bỏ icon\n",
    "import re\n",
    "\n",
    "# Regex lọc emoji Unicode (emoji mặt cười, cờ, biểu tượng cảm xúc, động vật,...)\n",
    "emoji_pattern = re.compile(\n",
    "    \"[\"\n",
    "    \"\\U0001F600-\\U0001F64F\"  # Mặt cười\n",
    "    \"\\U0001F300-\\U0001F5FF\"  # Biểu tượng khác\n",
    "    \"\\U0001F680-\\U0001F6FF\"  # Vận chuyển\n",
    "    \"\\U0001F1E0-\\U0001F1FF\"  # Cờ các nước\n",
    "    \"\\U00002700-\\U000027BF\"  # Các ký hiệu khác\n",
    "    \"\\U000024C2-\\U0001F251\"\n",
    "    \"]+\",\n",
    "    flags=re.UNICODE\n",
    ")\n",
    "\n",
    "def remove_emojis(text):\n",
    "    if not isinstance(text, str):\n",
    "        return \"\"\n",
    "    return emoji_pattern.sub(r'', text)\n",
    "dftest['comment'] = dftest['comment'].apply(remove_emojis)\n"
   ]
  },
  {
   "cell_type": "code",
   "execution_count": 213,
   "id": "b2da41d2-992e-4f71-927f-33dce710d397",
   "metadata": {},
   "outputs": [
    {
     "data": {
      "text/html": [
       "<div>\n",
       "<style scoped>\n",
       "    .dataframe tbody tr th:only-of-type {\n",
       "        vertical-align: middle;\n",
       "    }\n",
       "\n",
       "    .dataframe tbody tr th {\n",
       "        vertical-align: top;\n",
       "    }\n",
       "\n",
       "    .dataframe thead th {\n",
       "        text-align: right;\n",
       "    }\n",
       "</style>\n",
       "<table border=\"1\" class=\"dataframe\">\n",
       "  <thead>\n",
       "    <tr style=\"text-align: right;\">\n",
       "      <th></th>\n",
       "      <th>comment</th>\n",
       "      <th>label</th>\n",
       "      <th>rate</th>\n",
       "      <th>support</th>\n",
       "    </tr>\n",
       "  </thead>\n",
       "  <tbody>\n",
       "    <tr>\n",
       "      <th>0</th>\n",
       "      <td>['mình', 'cao', 'mình', 'có', 'mặc', 'vừa', 'k...</td>\n",
       "      <td>NEU</td>\n",
       "      <td>3</td>\n",
       "      <td>1</td>\n",
       "    </tr>\n",
       "    <tr>\n",
       "      <th>1</th>\n",
       "      <td>['mua', 'về', 'mặc', 'không', 'vừa', 'trả', 'h...</td>\n",
       "      <td>NEU</td>\n",
       "      <td>3</td>\n",
       "      <td>1</td>\n",
       "    </tr>\n",
       "    <tr>\n",
       "      <th>2</th>\n",
       "      <td>['tôi', 'muốn', 'trả', 'hàng', 'thì', 'phải', ...</td>\n",
       "      <td>NEU</td>\n",
       "      <td>3</td>\n",
       "      <td>1</td>\n",
       "    </tr>\n",
       "    <tr>\n",
       "      <th>3</th>\n",
       "      <td>['chính sách', 'đổi', 'trả', 'thế nào', 'vậy',...</td>\n",
       "      <td>NEU</td>\n",
       "      <td>3</td>\n",
       "      <td>1</td>\n",
       "    </tr>\n",
       "    <tr>\n",
       "      <th>4</th>\n",
       "      <td>['tư vấn', 'giúp', 'em', 'với', 'em', 'nặng', ...</td>\n",
       "      <td>NEU</td>\n",
       "      <td>3</td>\n",
       "      <td>1</td>\n",
       "    </tr>\n",
       "  </tbody>\n",
       "</table>\n",
       "</div>"
      ],
      "text/plain": [
       "                                             comment label  rate  support\n",
       "0  ['mình', 'cao', 'mình', 'có', 'mặc', 'vừa', 'k...   NEU     3        1\n",
       "1  ['mua', 'về', 'mặc', 'không', 'vừa', 'trả', 'h...   NEU     3        1\n",
       "2  ['tôi', 'muốn', 'trả', 'hàng', 'thì', 'phải', ...   NEU     3        1\n",
       "3  ['chính sách', 'đổi', 'trả', 'thế nào', 'vậy',...   NEU     3        1\n",
       "4  ['tư vấn', 'giúp', 'em', 'với', 'em', 'nặng', ...   NEU     3        1"
      ]
     },
     "execution_count": 213,
     "metadata": {},
     "output_type": "execute_result"
    }
   ],
   "source": [
    "dftest.head()"
   ]
  },
  {
   "cell_type": "code",
   "execution_count": 215,
   "id": "fbef5520-0f84-4b9f-9b93-bb7f6862678d",
   "metadata": {},
   "outputs": [
    {
     "data": {
      "text/html": [
       "<div>\n",
       "<style scoped>\n",
       "    .dataframe tbody tr th:only-of-type {\n",
       "        vertical-align: middle;\n",
       "    }\n",
       "\n",
       "    .dataframe tbody tr th {\n",
       "        vertical-align: top;\n",
       "    }\n",
       "\n",
       "    .dataframe thead th {\n",
       "        text-align: right;\n",
       "    }\n",
       "</style>\n",
       "<table border=\"1\" class=\"dataframe\">\n",
       "  <thead>\n",
       "    <tr style=\"text-align: right;\">\n",
       "      <th></th>\n",
       "      <th>comment</th>\n",
       "      <th>label</th>\n",
       "      <th>rate</th>\n",
       "      <th>support</th>\n",
       "    </tr>\n",
       "  </thead>\n",
       "  <tbody>\n",
       "    <tr>\n",
       "      <th>0</th>\n",
       "      <td>['mình', 'cao', 'mình', 'có', 'mặc', 'vừa', 'k...</td>\n",
       "      <td>NEU</td>\n",
       "      <td>3</td>\n",
       "      <td>1</td>\n",
       "    </tr>\n",
       "    <tr>\n",
       "      <th>1</th>\n",
       "      <td>['mua', 'về', 'mặc', 'không', 'vừa', 'trả', 'h...</td>\n",
       "      <td>NEU</td>\n",
       "      <td>3</td>\n",
       "      <td>1</td>\n",
       "    </tr>\n",
       "    <tr>\n",
       "      <th>2</th>\n",
       "      <td>['tôi', 'muốn', 'trả', 'hàng', 'thì', 'phải', ...</td>\n",
       "      <td>NEU</td>\n",
       "      <td>3</td>\n",
       "      <td>1</td>\n",
       "    </tr>\n",
       "    <tr>\n",
       "      <th>3</th>\n",
       "      <td>['chính sách', 'đổi', 'trả', 'thế nào', 'vậy',...</td>\n",
       "      <td>NEU</td>\n",
       "      <td>3</td>\n",
       "      <td>1</td>\n",
       "    </tr>\n",
       "    <tr>\n",
       "      <th>4</th>\n",
       "      <td>['tư vấn', 'giúp', 'em', 'với', 'em', 'nặng', ...</td>\n",
       "      <td>NEU</td>\n",
       "      <td>3</td>\n",
       "      <td>1</td>\n",
       "    </tr>\n",
       "  </tbody>\n",
       "</table>\n",
       "</div>"
      ],
      "text/plain": [
       "                                             comment label  rate  support\n",
       "0  ['mình', 'cao', 'mình', 'có', 'mặc', 'vừa', 'k...   NEU     3        1\n",
       "1  ['mua', 'về', 'mặc', 'không', 'vừa', 'trả', 'h...   NEU     3        1\n",
       "2  ['tôi', 'muốn', 'trả', 'hàng', 'thì', 'phải', ...   NEU     3        1\n",
       "3  ['chính sách', 'đổi', 'trả', 'thế nào', 'vậy',...   NEU     3        1\n",
       "4  ['tư vấn', 'giúp', 'em', 'với', 'em', 'nặng', ...   NEU     3        1"
      ]
     },
     "execution_count": 215,
     "metadata": {},
     "output_type": "execute_result"
    }
   ],
   "source": [
    "dftest.to_csv(\"support_comment_test_fix.csv\")\n",
    "dftest.head()"
   ]
  },
  {
   "cell_type": "code",
   "execution_count": 217,
   "id": "44793cb8-8933-4f7e-8180-912adb85003e",
   "metadata": {},
   "outputs": [],
   "source": [
    "import pandas as pd\n",
    "\n",
    "# Load file test, giả sử có cột 'content' chứa câu và 'label' = 1\n",
    "df_test = pd.read_csv(\"test_support_only.csv\")\n",
    "\n",
    "X_test_text = df_test['comment']\n",
    "y_test = df_test['support']  # toàn 1\n"
   ]
  },
  {
   "cell_type": "code",
   "execution_count": 438,
   "id": "7198c38a-6fa4-457a-a3cf-f4efd0235315",
   "metadata": {},
   "outputs": [],
   "source": [
    "X_test_vectorized = vectorizer.transform(X_test_text)\n"
   ]
  },
  {
   "cell_type": "code",
   "execution_count": 931,
   "id": "17592166-1fc4-470e-8e52-b798a923940c",
   "metadata": {},
   "outputs": [
    {
     "ename": "ValueError",
     "evalue": "X has 3643 features, but SVC is expecting 3093 features as input.",
     "output_type": "error",
     "traceback": [
      "\u001b[1;31m---------------------------------------------------------------------------\u001b[0m",
      "\u001b[1;31mValueError\u001b[0m                                Traceback (most recent call last)",
      "Cell \u001b[1;32mIn[931], line 11\u001b[0m\n\u001b[0;32m      8\u001b[0m     \u001b[38;5;28mprint\u001b[39m(\u001b[38;5;124m\"\u001b[39m\u001b[38;5;124mF1 Score:\u001b[39m\u001b[38;5;124m\"\u001b[39m, f1_score(y_true, y_pred, zero_division\u001b[38;5;241m=\u001b[39m\u001b[38;5;241m0\u001b[39m))\n\u001b[0;32m      9\u001b[0m     \u001b[38;5;28mprint\u001b[39m(\u001b[38;5;124m\"\u001b[39m\u001b[38;5;124m---------------\u001b[39m\u001b[38;5;124m\"\u001b[39m)\n\u001b[1;32m---> 11\u001b[0m \u001b[43mevaluate_model\u001b[49m\u001b[43m(\u001b[49m\u001b[38;5;124;43m\"\u001b[39;49m\u001b[38;5;124;43mSVM\u001b[39;49m\u001b[38;5;124;43m\"\u001b[39;49m\u001b[43m,\u001b[49m\u001b[43m \u001b[49m\u001b[43mmodel_svm\u001b[49m\u001b[43m,\u001b[49m\u001b[43m \u001b[49m\u001b[43mX_test_vectorized\u001b[49m\u001b[43m,\u001b[49m\u001b[43m \u001b[49m\u001b[43my_test\u001b[49m\u001b[43m)\u001b[49m\n\u001b[0;32m     12\u001b[0m evaluate_model(\u001b[38;5;124m\"\u001b[39m\u001b[38;5;124mRandom Forest\u001b[39m\u001b[38;5;124m\"\u001b[39m, rf_model, X_test_vectorized, y_test)\n\u001b[0;32m     13\u001b[0m evaluate_model(\u001b[38;5;124m\"\u001b[39m\u001b[38;5;124mXGBoost\u001b[39m\u001b[38;5;124m\"\u001b[39m, model_xgb, X_test_vectorized, y_test)\n",
      "Cell \u001b[1;32mIn[931], line 4\u001b[0m, in \u001b[0;36mevaluate_model\u001b[1;34m(name, model, X, y_true)\u001b[0m\n\u001b[0;32m      3\u001b[0m \u001b[38;5;28;01mdef\u001b[39;00m \u001b[38;5;21mevaluate_model\u001b[39m(name, model, X, y_true):\n\u001b[1;32m----> 4\u001b[0m     y_pred \u001b[38;5;241m=\u001b[39m \u001b[43mmodel\u001b[49m\u001b[38;5;241;43m.\u001b[39;49m\u001b[43mpredict\u001b[49m\u001b[43m(\u001b[49m\u001b[43mX\u001b[49m\u001b[43m)\u001b[49m\n\u001b[0;32m      5\u001b[0m     \u001b[38;5;28mprint\u001b[39m(\u001b[38;5;124mf\u001b[39m\u001b[38;5;124m\"\u001b[39m\u001b[38;5;124m== \u001b[39m\u001b[38;5;132;01m{\u001b[39;00mname\u001b[38;5;132;01m}\u001b[39;00m\u001b[38;5;124m ==\u001b[39m\u001b[38;5;124m\"\u001b[39m)\n\u001b[0;32m      6\u001b[0m     \u001b[38;5;28mprint\u001b[39m(\u001b[38;5;124m\"\u001b[39m\u001b[38;5;124mPrecision:\u001b[39m\u001b[38;5;124m\"\u001b[39m, precision_score(y_true, y_pred, zero_division\u001b[38;5;241m=\u001b[39m\u001b[38;5;241m0\u001b[39m))\n",
      "File \u001b[1;32m~\\anaconda3\\lib\\site-packages\\sklearn\\svm\\_base.py:813\u001b[0m, in \u001b[0;36mBaseSVC.predict\u001b[1;34m(self, X)\u001b[0m\n\u001b[0;32m    811\u001b[0m     y \u001b[38;5;241m=\u001b[39m np\u001b[38;5;241m.\u001b[39margmax(\u001b[38;5;28mself\u001b[39m\u001b[38;5;241m.\u001b[39mdecision_function(X), axis\u001b[38;5;241m=\u001b[39m\u001b[38;5;241m1\u001b[39m)\n\u001b[0;32m    812\u001b[0m \u001b[38;5;28;01melse\u001b[39;00m:\n\u001b[1;32m--> 813\u001b[0m     y \u001b[38;5;241m=\u001b[39m \u001b[38;5;28;43msuper\u001b[39;49m\u001b[43m(\u001b[49m\u001b[43m)\u001b[49m\u001b[38;5;241;43m.\u001b[39;49m\u001b[43mpredict\u001b[49m\u001b[43m(\u001b[49m\u001b[43mX\u001b[49m\u001b[43m)\u001b[49m\n\u001b[0;32m    814\u001b[0m \u001b[38;5;28;01mreturn\u001b[39;00m \u001b[38;5;28mself\u001b[39m\u001b[38;5;241m.\u001b[39mclasses_\u001b[38;5;241m.\u001b[39mtake(np\u001b[38;5;241m.\u001b[39masarray(y, dtype\u001b[38;5;241m=\u001b[39mnp\u001b[38;5;241m.\u001b[39mintp))\n",
      "File \u001b[1;32m~\\anaconda3\\lib\\site-packages\\sklearn\\svm\\_base.py:428\u001b[0m, in \u001b[0;36mBaseLibSVM.predict\u001b[1;34m(self, X)\u001b[0m\n\u001b[0;32m    412\u001b[0m \u001b[38;5;28;01mdef\u001b[39;00m \u001b[38;5;21mpredict\u001b[39m(\u001b[38;5;28mself\u001b[39m, X):\n\u001b[0;32m    413\u001b[0m \u001b[38;5;250m    \u001b[39m\u001b[38;5;124;03m\"\"\"Perform regression on samples in X.\u001b[39;00m\n\u001b[0;32m    414\u001b[0m \n\u001b[0;32m    415\u001b[0m \u001b[38;5;124;03m    For an one-class model, +1 (inlier) or -1 (outlier) is returned.\u001b[39;00m\n\u001b[1;32m   (...)\u001b[0m\n\u001b[0;32m    426\u001b[0m \u001b[38;5;124;03m        The predicted values.\u001b[39;00m\n\u001b[0;32m    427\u001b[0m \u001b[38;5;124;03m    \"\"\"\u001b[39;00m\n\u001b[1;32m--> 428\u001b[0m     X \u001b[38;5;241m=\u001b[39m \u001b[38;5;28;43mself\u001b[39;49m\u001b[38;5;241;43m.\u001b[39;49m\u001b[43m_validate_for_predict\u001b[49m\u001b[43m(\u001b[49m\u001b[43mX\u001b[49m\u001b[43m)\u001b[49m\n\u001b[0;32m    429\u001b[0m     predict \u001b[38;5;241m=\u001b[39m \u001b[38;5;28mself\u001b[39m\u001b[38;5;241m.\u001b[39m_sparse_predict \u001b[38;5;28;01mif\u001b[39;00m \u001b[38;5;28mself\u001b[39m\u001b[38;5;241m.\u001b[39m_sparse \u001b[38;5;28;01melse\u001b[39;00m \u001b[38;5;28mself\u001b[39m\u001b[38;5;241m.\u001b[39m_dense_predict\n\u001b[0;32m    430\u001b[0m     \u001b[38;5;28;01mreturn\u001b[39;00m predict(X)\n",
      "File \u001b[1;32m~\\anaconda3\\lib\\site-packages\\sklearn\\svm\\_base.py:606\u001b[0m, in \u001b[0;36mBaseLibSVM._validate_for_predict\u001b[1;34m(self, X)\u001b[0m\n\u001b[0;32m    603\u001b[0m check_is_fitted(\u001b[38;5;28mself\u001b[39m)\n\u001b[0;32m    605\u001b[0m \u001b[38;5;28;01mif\u001b[39;00m \u001b[38;5;129;01mnot\u001b[39;00m \u001b[38;5;28mcallable\u001b[39m(\u001b[38;5;28mself\u001b[39m\u001b[38;5;241m.\u001b[39mkernel):\n\u001b[1;32m--> 606\u001b[0m     X \u001b[38;5;241m=\u001b[39m \u001b[38;5;28;43mself\u001b[39;49m\u001b[38;5;241;43m.\u001b[39;49m\u001b[43m_validate_data\u001b[49m\u001b[43m(\u001b[49m\n\u001b[0;32m    607\u001b[0m \u001b[43m        \u001b[49m\u001b[43mX\u001b[49m\u001b[43m,\u001b[49m\n\u001b[0;32m    608\u001b[0m \u001b[43m        \u001b[49m\u001b[43maccept_sparse\u001b[49m\u001b[38;5;241;43m=\u001b[39;49m\u001b[38;5;124;43m\"\u001b[39;49m\u001b[38;5;124;43mcsr\u001b[39;49m\u001b[38;5;124;43m\"\u001b[39;49m\u001b[43m,\u001b[49m\n\u001b[0;32m    609\u001b[0m \u001b[43m        \u001b[49m\u001b[43mdtype\u001b[49m\u001b[38;5;241;43m=\u001b[39;49m\u001b[43mnp\u001b[49m\u001b[38;5;241;43m.\u001b[39;49m\u001b[43mfloat64\u001b[49m\u001b[43m,\u001b[49m\n\u001b[0;32m    610\u001b[0m \u001b[43m        \u001b[49m\u001b[43morder\u001b[49m\u001b[38;5;241;43m=\u001b[39;49m\u001b[38;5;124;43m\"\u001b[39;49m\u001b[38;5;124;43mC\u001b[39;49m\u001b[38;5;124;43m\"\u001b[39;49m\u001b[43m,\u001b[49m\n\u001b[0;32m    611\u001b[0m \u001b[43m        \u001b[49m\u001b[43maccept_large_sparse\u001b[49m\u001b[38;5;241;43m=\u001b[39;49m\u001b[38;5;28;43;01mFalse\u001b[39;49;00m\u001b[43m,\u001b[49m\n\u001b[0;32m    612\u001b[0m \u001b[43m        \u001b[49m\u001b[43mreset\u001b[49m\u001b[38;5;241;43m=\u001b[39;49m\u001b[38;5;28;43;01mFalse\u001b[39;49;00m\u001b[43m,\u001b[49m\n\u001b[0;32m    613\u001b[0m \u001b[43m    \u001b[49m\u001b[43m)\u001b[49m\n\u001b[0;32m    615\u001b[0m \u001b[38;5;28;01mif\u001b[39;00m \u001b[38;5;28mself\u001b[39m\u001b[38;5;241m.\u001b[39m_sparse \u001b[38;5;129;01mand\u001b[39;00m \u001b[38;5;129;01mnot\u001b[39;00m sp\u001b[38;5;241m.\u001b[39missparse(X):\n\u001b[0;32m    616\u001b[0m     X \u001b[38;5;241m=\u001b[39m sp\u001b[38;5;241m.\u001b[39mcsr_matrix(X)\n",
      "File \u001b[1;32m~\\anaconda3\\lib\\site-packages\\sklearn\\base.py:654\u001b[0m, in \u001b[0;36mBaseEstimator._validate_data\u001b[1;34m(self, X, y, reset, validate_separately, cast_to_ndarray, **check_params)\u001b[0m\n\u001b[0;32m    651\u001b[0m     out \u001b[38;5;241m=\u001b[39m X, y\n\u001b[0;32m    653\u001b[0m \u001b[38;5;28;01mif\u001b[39;00m \u001b[38;5;129;01mnot\u001b[39;00m no_val_X \u001b[38;5;129;01mand\u001b[39;00m check_params\u001b[38;5;241m.\u001b[39mget(\u001b[38;5;124m\"\u001b[39m\u001b[38;5;124mensure_2d\u001b[39m\u001b[38;5;124m\"\u001b[39m, \u001b[38;5;28;01mTrue\u001b[39;00m):\n\u001b[1;32m--> 654\u001b[0m     \u001b[38;5;28;43mself\u001b[39;49m\u001b[38;5;241;43m.\u001b[39;49m\u001b[43m_check_n_features\u001b[49m\u001b[43m(\u001b[49m\u001b[43mX\u001b[49m\u001b[43m,\u001b[49m\u001b[43m \u001b[49m\u001b[43mreset\u001b[49m\u001b[38;5;241;43m=\u001b[39;49m\u001b[43mreset\u001b[49m\u001b[43m)\u001b[49m\n\u001b[0;32m    656\u001b[0m \u001b[38;5;28;01mreturn\u001b[39;00m out\n",
      "File \u001b[1;32m~\\anaconda3\\lib\\site-packages\\sklearn\\base.py:443\u001b[0m, in \u001b[0;36mBaseEstimator._check_n_features\u001b[1;34m(self, X, reset)\u001b[0m\n\u001b[0;32m    440\u001b[0m     \u001b[38;5;28;01mreturn\u001b[39;00m\n\u001b[0;32m    442\u001b[0m \u001b[38;5;28;01mif\u001b[39;00m n_features \u001b[38;5;241m!=\u001b[39m \u001b[38;5;28mself\u001b[39m\u001b[38;5;241m.\u001b[39mn_features_in_:\n\u001b[1;32m--> 443\u001b[0m     \u001b[38;5;28;01mraise\u001b[39;00m \u001b[38;5;167;01mValueError\u001b[39;00m(\n\u001b[0;32m    444\u001b[0m         \u001b[38;5;124mf\u001b[39m\u001b[38;5;124m\"\u001b[39m\u001b[38;5;124mX has \u001b[39m\u001b[38;5;132;01m{\u001b[39;00mn_features\u001b[38;5;132;01m}\u001b[39;00m\u001b[38;5;124m features, but \u001b[39m\u001b[38;5;132;01m{\u001b[39;00m\u001b[38;5;28mself\u001b[39m\u001b[38;5;241m.\u001b[39m\u001b[38;5;18m__class__\u001b[39m\u001b[38;5;241m.\u001b[39m\u001b[38;5;18m__name__\u001b[39m\u001b[38;5;132;01m}\u001b[39;00m\u001b[38;5;124m \u001b[39m\u001b[38;5;124m\"\u001b[39m\n\u001b[0;32m    445\u001b[0m         \u001b[38;5;124mf\u001b[39m\u001b[38;5;124m\"\u001b[39m\u001b[38;5;124mis expecting \u001b[39m\u001b[38;5;132;01m{\u001b[39;00m\u001b[38;5;28mself\u001b[39m\u001b[38;5;241m.\u001b[39mn_features_in_\u001b[38;5;132;01m}\u001b[39;00m\u001b[38;5;124m features as input.\u001b[39m\u001b[38;5;124m\"\u001b[39m\n\u001b[0;32m    446\u001b[0m     )\n",
      "\u001b[1;31mValueError\u001b[0m: X has 3643 features, but SVC is expecting 3093 features as input."
     ]
    }
   ],
   "source": [
    "from sklearn.metrics import precision_score, recall_score, f1_score\n",
    "\n",
    "def evaluate_model(name, model, X, y_true):\n",
    "    y_pred = model.predict(X)\n",
    "    print(f\"== {name} ==\")\n",
    "    print(\"Precision:\", precision_score(y_true, y_pred, zero_division=0))\n",
    "    print(\"Recall:\", recall_score(y_true, y_pred, zero_division=0))\n",
    "    print(\"F1 Score:\", f1_score(y_true, y_pred, zero_division=0))\n",
    "    print(\"---------------\")\n",
    "\n",
    "evaluate_model(\"SVM\", model_svm, X_test_vectorized, y_test)\n",
    "evaluate_model(\"Random Forest\", rf_model, X_test_vectorized, y_test)\n",
    "evaluate_model(\"XGBoost\", model_xgb, X_test_vectorized, y_test)\n"
   ]
  },
  {
   "cell_type": "code",
   "execution_count": null,
   "id": "97806546-e7d5-4fe4-93f6-319d60b57b07",
   "metadata": {},
   "outputs": [],
   "source": []
  },
  {
   "cell_type": "code",
   "execution_count": 40,
   "id": "85800bd0-68ac-4071-9431-23d25e4ac8a7",
   "metadata": {},
   "outputs": [
    {
     "name": "stdout",
     "output_type": "stream",
     "text": [
      " Voting Soft LSTM - Random Forest - SVM - XGBoost:\n",
      "\n",
      "              precision    recall  f1-score   support\n",
      "\n",
      "           0     0.9789    0.9940    0.9864      3313\n",
      "           1     0.9943    0.9801    0.9872      3574\n",
      "\n",
      "    accuracy                         0.9868      6887\n",
      "   macro avg     0.9866    0.9870    0.9868      6887\n",
      "weighted avg     0.9869    0.9868    0.9868      6887\n",
      "\n",
      "\n",
      " Đã lưu kết quả vào test_results_only_support.csv\n"
     ]
    }
   ],
   "source": [
    "import pandas as pd\n",
    "import numpy as np\n",
    "import joblib\n",
    "import pickle\n",
    "from sklearn.metrics import classification_report\n",
    "from tensorflow.keras.models import load_model\n",
    "from tensorflow.keras.preprocessing.sequence import pad_sequences\n",
    "\n",
    "# ===== Load mô hình & tokenizer =====\n",
    "rf_model = joblib.load('rf_model.pkl')\n",
    "xgb_model = joblib.load('xgb_model.pkl')\n",
    "svm_model = joblib.load('svm_model.pkl')\n",
    "vectorizer = joblib.load('tfidf_vectorizer.pkl')\n",
    "lstm_model = load_model('support_model.keras')\n",
    "\n",
    "with open(\"tokenizer.pkl\", \"rb\") as f:\n",
    "    tokenizer = pickle.load(f)\n",
    "\n",
    "# ===== Load dữ liệu test =====\n",
    "df = pd.read_csv(\"merged_test_val.csv\")  # tên file test\n",
    "texts = df['comment'].astype(str).tolist()\n",
    "y_true = df['support'].values  # toàn bộ là 1\n",
    "\n",
    "# ===== Predict với 3 model ML =====\n",
    "X_tfidf = vectorizer.transform(texts)\n",
    "\n",
    "rf_probs = rf_model.predict_proba(X_tfidf)[:, 1]\n",
    "xgb_probs = xgb_model.predict_proba(X_tfidf)[:, 1]\n",
    "svm_probs = svm_model.predict_proba(X_tfidf)[:, 1]\n",
    "\n",
    "# ===== Predict với LSTM =====\n",
    "seqs = tokenizer.texts_to_sequences(texts)\n",
    "padded = pad_sequences(seqs, maxlen=100, padding='post', truncating='post')\n",
    "lstm_probs = lstm_model.predict(padded, verbose=0).reshape(-1)\n",
    "\n",
    "# ===== Voting soft =====\n",
    "all_probs = np.vstack([rf_probs, xgb_probs, svm_probs, lstm_probs])\n",
    "final_probs = np.mean(all_probs, axis=0)\n",
    "final_preds = (final_probs > 0.5).astype(int)\n",
    "\n",
    "# ===== In kết quả đánh giá =====\n",
    "print(\" Voting Soft LSTM - Random Forest - SVM - XGBoost:\\n\")\n",
    "print(classification_report(y_true, final_preds, digits=4))\n",
    "\n",
    "# ===== Lưu kết quả nếu muốn =====\n",
    "df['probability'] = final_probs\n",
    "df['prediction'] = final_preds\n",
    "df.to_csv(\"test_results_only_support.csv\", index=False)\n",
    "print(\"\\n Đã lưu kết quả vào test_results_only_support.csv\")\n"
   ]
  },
  {
   "cell_type": "code",
   "execution_count": 181,
   "id": "11d7e3e2-52fb-4494-bd81-c271c69ff8a7",
   "metadata": {},
   "outputs": [
    {
     "data": {
      "image/png": "[encoded data removed]",
      "text/plain": [
       "<Figure size 1400x600 with 1 Axes>"
      ]
     },
     "metadata": {},
     "output_type": "display_data"
    }
   ],
   "source": [
    "import numpy as np\n",
    "import matplotlib.pyplot as plt\n",
    "\n",
    "models = ['LSTM', 'Random Forest', 'XGBoost', 'SVM']\n",
    "x = np.arange(len(models))\n",
    "\n",
    "precision_0 = [0.93, 0.8830, 0.9068, 0.8875]\n",
    "precision_1 = [0.90, 0.9506, 0.9217, 0.9469]\n",
    "recall_0    = [0.89, 0.9545, 0.9229, 0.9506]\n",
    "recall_1    = [0.93, 0.8738, 0.9053, 0.8797]\n",
    "f1_0        = [0.91, 0.9174, 0.9148, 0.9179]\n",
    "f1_1        = [0.91, 0.9106, 0.9134, 0.9121]\n",
    "accuracy    = [0.9112, 0.9141, 0.9141, 0.9151]\n",
    "\n",
    "metrics = [precision_0, precision_1, recall_0, recall_1, f1_0, f1_1, accuracy]\n",
    "metric_labels = ['Precision_0', 'Precision_1', 'Recall_0', 'Recall_1', 'F1_0', 'F1_1', 'Accuracy']\n",
    "colors = ['#1f77b4', '#ff7f0e', '#2ca02c', '#d62728', '#9467bd', '#8c564b', '#17becf']\n",
    "\n",
    "bar_width = 0.11\n",
    "offsets = np.arange(len(metrics)) * bar_width - (len(metrics)/2 - 0.5) * bar_width\n",
    "\n",
    "plt.figure(figsize=(14, 6))\n",
    "for i, (metric, label, color) in enumerate(zip(metrics, metric_labels, colors)):\n",
    "    plt.bar(x + offsets[i], metric, width=bar_width, label=label, color=color)\n",
    "\n",
    "plt.xticks(x, models)\n",
    "plt.ylim(0.85, 1.0)\n",
    "plt.ylabel(\"Giá trị\")\n",
    "plt.title(\"So sánh tổng hợp các chỉ số của các mô hình\")\n",
    "plt.legend(loc='upper center', bbox_to_anchor=(0.5, -0.15), ncol=4)\n",
    "plt.grid(axis='y', linestyle='--', alpha=0.5)\n",
    "plt.tight_layout()\n",
    "plt.show()\n"
   ]
  },
  {
   "cell_type": "code",
   "execution_count": 4,
   "id": "d5bb51ae-5b3f-42f3-86e7-572a85566438",
   "metadata": {},
   "outputs": [
    {
     "data": {
      "image/png": "[encoded data removed]",
      "text/plain": [
       "<Figure size 1400x600 with 1 Axes>"
      ]
     },
     "metadata": {},
     "output_type": "display_data"
    }
   ],
   "source": [
    "import numpy as np\n",
    "import matplotlib.pyplot as plt\n",
    "\n",
    "# Tên mô hình\n",
    "models = ['LSTM', 'Random Forest', 'XGBoost', 'SVM']\n",
    "\n",
    "# Dữ liệu\n",
    "precision_0 = [0.9800, 0.9821, 0.9826, 0.9838]\n",
    "precision_1 = [0.9918, 0.9943, 0.9885, 0.9882]\n",
    "recall_0    = [0.9912, 0.9940, 0.9876, 0.9873]\n",
    "recall_1    = [0.9813, 0.9832, 0.9838, 0.9849]\n",
    "f1_0        = [0.9856, 0.9880, 0.9851, 0.9855]\n",
    "f1_1        = [0.9865, 0.9887, 0.9861, 0.9865]\n",
    "accuracy    = [0.9861, 0.9884, 0.9856, 0.9861]\n",
    "\n",
    "# Gom theo nhóm chỉ số (Precision_0, Precision_1, ..., Accuracy)\n",
    "metrics = [\n",
    "    precision_0,\n",
    "    precision_1,\n",
    "    recall_0,\n",
    "    recall_1,\n",
    "    f1_0,\n",
    "    f1_1,\n",
    "    accuracy\n",
    "]\n",
    "\n",
    "metric_labels = ['Precision_0', 'Precision_1', 'Recall_0', 'Recall_1', 'F1_0', 'F1_1', 'Accuracy']\n",
    "colors = ['#1f77b4', '#ff7f0e', '#2ca02c', '#d62728']\n",
    "\n",
    "# Tạo các cột\n",
    "x = np.arange(len(metric_labels))  # mỗi chỉ số là một cụm\n",
    "bar_width = 0.2\n",
    "\n",
    "plt.figure(figsize=(14, 6))\n",
    "for i in range(len(models)):\n",
    "    # Tại mỗi chỉ số, vẽ 1 cột đại diện cho 1 model\n",
    "    data = [metric[i] for metric in metrics]\n",
    "    plt.bar(x + i * bar_width, data, width=bar_width, label=models[i], color=colors[i % len(colors)])\n",
    "\n",
    "# Trục x\n",
    "plt.xticks(x + bar_width * 1.5, metric_labels, rotation=45)\n",
    "plt.ylim(0.85, 1.0)\n",
    "plt.ylabel(\"Giá trị\")\n",
    "plt.title(\"So sánh các chỉ số của mô hình (gom theo từng chỉ số)\")\n",
    "plt.legend(title=\"Mô hình\", loc='upper right')\n",
    "plt.grid(axis='y', linestyle='--', alpha=0.5)\n",
    "plt.tight_layout()\n",
    "plt.show()\n"
   ]
  },
  {
   "cell_type": "code",
   "execution_count": null,
   "id": "c61b7a25-e963-4d67-8b96-0b831351c81d",
   "metadata": {},
   "outputs": [],
   "source": []
  }
 ],
 "metadata": {
  "kernelspec": {
   "display_name": "Python [conda env:base] *",
   "language": "python",
   "name": "conda-base-py"
  },
  "language_info": {
   "codemirror_mode": {
    "name": "ipython",
    "version": 3
   },
   "file_extension": ".py",
   "mimetype": "text/x-python",
   "name": "python",
   "nbconvert_exporter": "python",
   "pygments_lexer": "ipython3",
   "version": "3.10.16"
  }
 },
 "nbformat": 4,
 "nbformat_minor": 5
}
